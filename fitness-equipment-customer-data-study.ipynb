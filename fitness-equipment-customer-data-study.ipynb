{
 "cells": [
  {
   "cell_type": "code",
   "execution_count": 1,
   "id": "99ddcc20",
   "metadata": {},
   "outputs": [],
   "source": [
    "import numpy as np\n",
    "import pandas as pd\n",
    "import matplotlib.pyplot as plt\n",
    "import seaborn as sns"
   ]
  },
  {
   "cell_type": "code",
   "execution_count": 2,
   "id": "f2ebe7c0",
   "metadata": {},
   "outputs": [],
   "source": [
    "data = pd.read_csv('https://**')"
   ]
  },
  {
   "cell_type": "markdown",
   "id": "fa7086a4",
   "metadata": {},
   "source": [
    "# Problem Statement Definition:"
   ]
  },
  {
   "cell_type": "markdown",
   "id": "943659e9",
   "metadata": {},
   "source": [
    "    Fitness equipment manufacturer has provided data of its existing customers who have bought the treadmill models of \n",
    "    KP281, KP481 and KP781. \n",
    "    \n",
    "    The task at hand is to understand customer profiles of Aerofit with respect to the given customer details and then \n",
    "    deduce the possbile characteristic of the customers that are more likely to buy the differently priced models.\n",
    "    \n",
    "    Based on EDA, possible customer profiles can be formed and then the likelihood of each of these profiles purchasing the \n",
    "    KP281, KP481 or KP781 can be calculated. These will be used as a parameter for recommendation."
   ]
  },
  {
   "cell_type": "markdown",
   "id": "9266afaa",
   "metadata": {},
   "source": [
    "# Checking what Columns are present in the data set and the corresponding No. of Entries in each."
   ]
  },
  {
   "cell_type": "code",
   "execution_count": 5,
   "id": "217775c6",
   "metadata": {},
   "outputs": [
    {
     "name": "stdout",
     "output_type": "stream",
     "text": [
      "<class 'pandas.core.frame.DataFrame'>\n",
      "RangeIndex: 180 entries, 0 to 179\n",
      "Data columns (total 9 columns):\n",
      " #   Column         Non-Null Count  Dtype \n",
      "---  ------         --------------  ----- \n",
      " 0   Product        180 non-null    object\n",
      " 1   Age            180 non-null    int64 \n",
      " 2   Gender         180 non-null    object\n",
      " 3   Education      180 non-null    int64 \n",
      " 4   MaritalStatus  180 non-null    object\n",
      " 5   Usage          180 non-null    int64 \n",
      " 6   Fitness        180 non-null    int64 \n",
      " 7   Income         180 non-null    int64 \n",
      " 8   Miles          180 non-null    int64 \n",
      "dtypes: int64(6), object(3)\n",
      "memory usage: 12.8+ KB\n"
     ]
    }
   ],
   "source": [
    "data.info()"
   ]
  },
  {
   "cell_type": "markdown",
   "id": "422db4f3",
   "metadata": {},
   "source": [
    "There are 180 datapoints in total.\n",
    "Information about datatypes for each of the columns\n",
    "    \n",
    "There are 9 Columns out of which 3 are Object type: 'Product', 'Gender', 'Marital Status' which are possibly the categorical variables. \n",
    "Rest are int64 type as they provide numerical data in relation to the categorical variable."
   ]
  },
  {
   "cell_type": "markdown",
   "id": "bf7dc98a",
   "metadata": {},
   "source": [
    "From the Above randomly sampled datapoints out of the data, we can see that most of the numerical columns have clearly defined units apart from Education and Fitness level."
   ]
  },
  {
   "cell_type": "code",
   "execution_count": 7,
   "id": "06f8d3a4",
   "metadata": {},
   "outputs": [
    {
     "data": {
      "text/html": [
       "<div>\n",
       "<style scoped>\n",
       "    .dataframe tbody tr th:only-of-type {\n",
       "        vertical-align: middle;\n",
       "    }\n",
       "\n",
       "    .dataframe tbody tr th {\n",
       "        vertical-align: top;\n",
       "    }\n",
       "\n",
       "    .dataframe thead th {\n",
       "        text-align: right;\n",
       "    }\n",
       "</style>\n",
       "<table border=\"1\" class=\"dataframe\">\n",
       "  <thead>\n",
       "    <tr style=\"text-align: right;\">\n",
       "      <th></th>\n",
       "      <th>Age</th>\n",
       "      <th>Education</th>\n",
       "      <th>Usage</th>\n",
       "      <th>Fitness</th>\n",
       "      <th>Income</th>\n",
       "      <th>Miles</th>\n",
       "    </tr>\n",
       "  </thead>\n",
       "  <tbody>\n",
       "    <tr>\n",
       "      <th>count</th>\n",
       "      <td>180.000000</td>\n",
       "      <td>180.000000</td>\n",
       "      <td>180.000000</td>\n",
       "      <td>180.000000</td>\n",
       "      <td>180.000000</td>\n",
       "      <td>180.000000</td>\n",
       "    </tr>\n",
       "    <tr>\n",
       "      <th>mean</th>\n",
       "      <td>28.788889</td>\n",
       "      <td>15.572222</td>\n",
       "      <td>3.455556</td>\n",
       "      <td>3.311111</td>\n",
       "      <td>53719.577778</td>\n",
       "      <td>103.194444</td>\n",
       "    </tr>\n",
       "    <tr>\n",
       "      <th>std</th>\n",
       "      <td>6.943498</td>\n",
       "      <td>1.617055</td>\n",
       "      <td>1.084797</td>\n",
       "      <td>0.958869</td>\n",
       "      <td>16506.684226</td>\n",
       "      <td>51.863605</td>\n",
       "    </tr>\n",
       "    <tr>\n",
       "      <th>min</th>\n",
       "      <td>18.000000</td>\n",
       "      <td>12.000000</td>\n",
       "      <td>2.000000</td>\n",
       "      <td>1.000000</td>\n",
       "      <td>29562.000000</td>\n",
       "      <td>21.000000</td>\n",
       "    </tr>\n",
       "    <tr>\n",
       "      <th>25%</th>\n",
       "      <td>24.000000</td>\n",
       "      <td>14.000000</td>\n",
       "      <td>3.000000</td>\n",
       "      <td>3.000000</td>\n",
       "      <td>44058.750000</td>\n",
       "      <td>66.000000</td>\n",
       "    </tr>\n",
       "    <tr>\n",
       "      <th>50%</th>\n",
       "      <td>26.000000</td>\n",
       "      <td>16.000000</td>\n",
       "      <td>3.000000</td>\n",
       "      <td>3.000000</td>\n",
       "      <td>50596.500000</td>\n",
       "      <td>94.000000</td>\n",
       "    </tr>\n",
       "    <tr>\n",
       "      <th>75%</th>\n",
       "      <td>33.000000</td>\n",
       "      <td>16.000000</td>\n",
       "      <td>4.000000</td>\n",
       "      <td>4.000000</td>\n",
       "      <td>58668.000000</td>\n",
       "      <td>114.750000</td>\n",
       "    </tr>\n",
       "    <tr>\n",
       "      <th>max</th>\n",
       "      <td>50.000000</td>\n",
       "      <td>21.000000</td>\n",
       "      <td>7.000000</td>\n",
       "      <td>5.000000</td>\n",
       "      <td>104581.000000</td>\n",
       "      <td>360.000000</td>\n",
       "    </tr>\n",
       "  </tbody>\n",
       "</table>\n",
       "</div>"
      ],
      "text/plain": [
       "              Age   Education       Usage     Fitness         Income  \\\n",
       "count  180.000000  180.000000  180.000000  180.000000     180.000000   \n",
       "mean    28.788889   15.572222    3.455556    3.311111   53719.577778   \n",
       "std      6.943498    1.617055    1.084797    0.958869   16506.684226   \n",
       "min     18.000000   12.000000    2.000000    1.000000   29562.000000   \n",
       "25%     24.000000   14.000000    3.000000    3.000000   44058.750000   \n",
       "50%     26.000000   16.000000    3.000000    3.000000   50596.500000   \n",
       "75%     33.000000   16.000000    4.000000    4.000000   58668.000000   \n",
       "max     50.000000   21.000000    7.000000    5.000000  104581.000000   \n",
       "\n",
       "            Miles  \n",
       "count  180.000000  \n",
       "mean   103.194444  \n",
       "std     51.863605  \n",
       "min     21.000000  \n",
       "25%     66.000000  \n",
       "50%     94.000000  \n",
       "75%    114.750000  \n",
       "max    360.000000  "
      ]
     },
     "execution_count": 7,
     "metadata": {},
     "output_type": "execute_result"
    }
   ],
   "source": [
    "data.describe()"
   ]
  },
  {
   "cell_type": "code",
   "execution_count": 9,
   "id": "24b0959a",
   "metadata": {},
   "outputs": [
    {
     "data": {
      "text/plain": [
       "[]"
      ]
     },
     "execution_count": 9,
     "metadata": {},
     "output_type": "execute_result"
    },
    {
     "data": {
      "image/png": "[encoded data removed]",
      "text/plain": [
       "<Figure size 432x288 with 1 Axes>"
      ]
     },
     "metadata": {
      "needs_background": "light"
     },
     "output_type": "display_data"
    }
   ],
   "source": [
    "sns.boxplot(y=data['Income'])\n",
    "plt.plot()"
   ]
  },
  {
   "cell_type": "markdown",
   "id": "50d3a490",
   "metadata": {},
   "source": [
    "The average values, spread of the values and min-max values out of the 180 datapoints for each of the numerical columns are represented above."
   ]
  },
  {
   "cell_type": "code",
   "execution_count": 10,
   "id": "df2accb1",
   "metadata": {},
   "outputs": [
    {
     "data": {
      "text/plain": [
       "19"
      ]
     },
     "execution_count": 10,
     "metadata": {},
     "output_type": "execute_result"
    }
   ],
   "source": [
    "data[data['Income']>80000].value_counts().sum()"
   ]
  },
  {
   "cell_type": "markdown",
   "id": "45cb12f1",
   "metadata": {},
   "source": [
    "Following insights about customer profiles taken from this table:\n",
    "Age:\n",
    "1. Average Age of Aerofit customers as visible from the present state of the data is around 28-29 years. \n",
    "2. The maximum age is 50 years while the youngest customers are around 18 years old. \n",
    "3. Given the standard deviation of 7 years, the maximum percentage of customers lie in the age range of 22-35 years. Also clarified by the percentile values.\n",
    "Income:\n",
    "1. Average income of Aerofit customers is 53000 USD and Median value is 50000 USD, since this difference is not too large, its indicative that the number(19) of outliers are not significant. \n",
    "While there are some exceptional cases of customers earning more than 100k USD and some below 30k USD.\n",
    "These exceptions are indicated by the maximum(104581 USD) and minimum(29562 USD) values.\n",
    "2. Normally customers earn in the range of 70k USD to 30k USD as judged from the given standard deviation of 16506 USD.\n",
    "Education: \n",
    "1. Average education level is 15\n",
    "2. Minimum education level of customers is 12, while maximum(highly qualified) is 21.\n",
    "3. 50% of customers lie in the range of 14-16 education levels."
   ]
  },
  {
   "cell_type": "code",
   "execution_count": 11,
   "id": "c8e5effd",
   "metadata": {},
   "outputs": [
    {
     "data": {
      "text/plain": [
       "Product          0\n",
       "Age              0\n",
       "Gender           0\n",
       "Education        0\n",
       "MaritalStatus    0\n",
       "Usage            0\n",
       "Fitness          0\n",
       "Income           0\n",
       "Miles            0\n",
       "dtype: int64"
      ]
     },
     "execution_count": 11,
     "metadata": {},
     "output_type": "execute_result"
    }
   ],
   "source": [
    "data.isna().sum()"
   ]
  },
  {
   "cell_type": "markdown",
   "id": "06a3ec2d",
   "metadata": {},
   "source": [
    "There are no Null/missing values in the data"
   ]
  },
  {
   "cell_type": "markdown",
   "id": "e8331ad6",
   "metadata": {},
   "source": [
    "Standardizing Education column to remove confusion. Taking minimum value from the Education level column as 0 and then keeping increments from that value as the different level \n",
    "for better clarity of the column"
   ]
  },
  {
   "cell_type": "code",
   "execution_count": 13,
   "id": "ff16d304",
   "metadata": {},
   "outputs": [],
   "source": [
    "data['Education']= data['Education']-data['Education'].min()"
   ]
  },
  {
   "cell_type": "code",
   "execution_count": 14,
   "id": "d05135de",
   "metadata": {},
   "outputs": [],
   "source": [
    "ed_dict = {0: 'High School', 1: 'Diploma', 2: 'Diploma', 3: 'Undergraduate', 4: 'Undergraduate', 5: 'Undergraduate', 6: 'Post-Grad', 7: 'Post-Grad', 8: 'Doctor or equivalent' , 9: 'Doctor or equivalent'}"
   ]
  },
  {
   "cell_type": "code",
   "execution_count": 15,
   "id": "8b85e975",
   "metadata": {},
   "outputs": [
    {
     "name": "stderr",
     "output_type": "stream",
     "text": [
      "C:\\Users\\Nischay\\AppData\\Local\\Temp/ipykernel_11104/427561596.py:3: SettingWithCopyWarning: \n",
      "A value is trying to be set on a copy of a slice from a DataFrame\n",
      "\n",
      "See the caveats in the documentation: https://pandas.pydata.org/pandas-docs/stable/user_guide/indexing.html#returning-a-view-versus-a-copy\n",
      "  data['Education'][i] = ed_dict[x]\n",
      "C:\\Users\\Nischay\\anaconda3\\lib\\site-packages\\pandas\\core\\indexing.py:1732: SettingWithCopyWarning: \n",
      "A value is trying to be set on a copy of a slice from a DataFrame\n",
      "\n",
      "See the caveats in the documentation: https://pandas.pydata.org/pandas-docs/stable/user_guide/indexing.html#returning-a-view-versus-a-copy\n",
      "  self._setitem_single_block(indexer, value, name)\n"
     ]
    }
   ],
   "source": [
    "for  i in range(len(data['Education'])):\n",
    "    x = data['Education'][i]\n",
    "    data['Education'][i] = ed_dict[x]"
   ]
  },
  {
   "cell_type": "code",
   "execution_count": 16,
   "id": "9336ba08",
   "metadata": {},
   "outputs": [
    {
     "name": "stderr",
     "output_type": "stream",
     "text": [
      "C:\\Users\\Nischay\\AppData\\Local\\Temp/ipykernel_11104/812575212.py:4: SettingWithCopyWarning: \n",
      "A value is trying to be set on a copy of a slice from a DataFrame\n",
      "\n",
      "See the caveats in the documentation: https://pandas.pydata.org/pandas-docs/stable/user_guide/indexing.html#returning-a-view-versus-a-copy\n",
      "  data['Usage'][i] = usage_dict[x]\n"
     ]
    }
   ],
   "source": [
    "usage_dict = {2: 'Rare', 3:'Occassional', 4:'Average', 5:'Above Average', 6: 'Regular', 7:'Frequent'}\n",
    "for  i in range(len(data['Usage'])):\n",
    "    x = data['Usage'][i]\n",
    "    data['Usage'][i] = usage_dict[x]"
   ]
  },
  {
   "cell_type": "code",
   "execution_count": 19,
   "id": "b637a263",
   "metadata": {},
   "outputs": [
    {
     "name": "stderr",
     "output_type": "stream",
     "text": [
      "C:\\Users\\Nischay\\AppData\\Local\\Temp/ipykernel_11104/1755001291.py:22: SettingWithCopyWarning: \n",
      "A value is trying to be set on a copy of a slice from a DataFrame\n",
      "\n",
      "See the caveats in the documentation: https://pandas.pydata.org/pandas-docs/stable/user_guide/indexing.html#returning-a-view-versus-a-copy\n",
      "  data['Income Type'][k] = 'Very Low'\n"
     ]
    }
   ],
   "source": [
    "med_inc = np.median(data['Income'])\n",
    "p40_inc = np.percentile(data['Income'],40)\n",
    "p60_inc = np.percentile(data['Income'],60)\n",
    "p25_inc = np.percentile(data['Income'],25)\n",
    "p75_inc = np.percentile(data['Income'],75)\n",
    "p5_inc = np.percentile(data['Income'],5)\n",
    "p95_inc = np.percentile(data['Income'],95)\n",
    "k = 0\n",
    "data['Income Type'] = np.zeros(len(data['Income']))\n",
    "for inc in data['Income']:\n",
    "    if inc<=p60_inc and inc>=p40_inc:\n",
    "        data['Income Type'][k] = 'Average'\n",
    "    elif inc<=p40_inc and inc>=p25_inc:\n",
    "        data['Income Type'][k] = 'Below Average'\n",
    "    elif inc>=p60_inc and inc<=p75_inc:\n",
    "        data['Income Type'][k] = 'Above Average'\n",
    "    elif inc<=p25_inc and inc>=p5_inc:\n",
    "        data['Income Type'][k] = 'Low'\n",
    "    elif inc>=p75_inc and inc<=p95_inc:\n",
    "        data['Income Type'][k] = 'High'\n",
    "    elif inc<=p5_inc:\n",
    "        data['Income Type'][k] = 'Very Low'\n",
    "    elif inc>=p95_inc:\n",
    "        data['Income Type'][k] = 'Very High'\n",
    "    k+=1"
   ]
  },
  {
   "cell_type": "code",
   "execution_count": 20,
   "id": "dff5edf2",
   "metadata": {},
   "outputs": [
    {
     "data": {
      "text/html": [
       "<div>\n",
       "<style scoped>\n",
       "    .dataframe tbody tr th:only-of-type {\n",
       "        vertical-align: middle;\n",
       "    }\n",
       "\n",
       "    .dataframe tbody tr th {\n",
       "        vertical-align: top;\n",
       "    }\n",
       "\n",
       "    .dataframe thead th {\n",
       "        text-align: right;\n",
       "    }\n",
       "</style>\n",
       "<table border=\"1\" class=\"dataframe\">\n",
       "  <thead>\n",
       "    <tr style=\"text-align: right;\">\n",
       "      <th></th>\n",
       "      <th>Product</th>\n",
       "      <th>Age</th>\n",
       "      <th>Gender</th>\n",
       "      <th>Education</th>\n",
       "      <th>MaritalStatus</th>\n",
       "      <th>Usage</th>\n",
       "      <th>Fitness</th>\n",
       "      <th>Income</th>\n",
       "      <th>Miles</th>\n",
       "      <th>Income Type</th>\n",
       "    </tr>\n",
       "  </thead>\n",
       "  <tbody>\n",
       "    <tr>\n",
       "      <th>18</th>\n",
       "      <td>KP281</td>\n",
       "      <td>23</td>\n",
       "      <td>Female</td>\n",
       "      <td>Undergraduate</td>\n",
       "      <td>Single</td>\n",
       "      <td>Average</td>\n",
       "      <td>3</td>\n",
       "      <td>38658</td>\n",
       "      <td>113</td>\n",
       "      <td>Low</td>\n",
       "    </tr>\n",
       "    <tr>\n",
       "      <th>116</th>\n",
       "      <td>KP481</td>\n",
       "      <td>31</td>\n",
       "      <td>Female</td>\n",
       "      <td>Undergraduate</td>\n",
       "      <td>Partnered</td>\n",
       "      <td>Rare</td>\n",
       "      <td>3</td>\n",
       "      <td>51165</td>\n",
       "      <td>64</td>\n",
       "      <td>Average</td>\n",
       "    </tr>\n",
       "    <tr>\n",
       "      <th>1</th>\n",
       "      <td>KP281</td>\n",
       "      <td>19</td>\n",
       "      <td>Male</td>\n",
       "      <td>Undergraduate</td>\n",
       "      <td>Single</td>\n",
       "      <td>Rare</td>\n",
       "      <td>3</td>\n",
       "      <td>31836</td>\n",
       "      <td>75</td>\n",
       "      <td>Very Low</td>\n",
       "    </tr>\n",
       "    <tr>\n",
       "      <th>128</th>\n",
       "      <td>KP481</td>\n",
       "      <td>35</td>\n",
       "      <td>Female</td>\n",
       "      <td>Diploma</td>\n",
       "      <td>Partnered</td>\n",
       "      <td>Occassional</td>\n",
       "      <td>2</td>\n",
       "      <td>52302</td>\n",
       "      <td>53</td>\n",
       "      <td>Average</td>\n",
       "    </tr>\n",
       "    <tr>\n",
       "      <th>156</th>\n",
       "      <td>KP781</td>\n",
       "      <td>25</td>\n",
       "      <td>Male</td>\n",
       "      <td>Doctor or equivalent</td>\n",
       "      <td>Partnered</td>\n",
       "      <td>Average</td>\n",
       "      <td>5</td>\n",
       "      <td>74701</td>\n",
       "      <td>170</td>\n",
       "      <td>High</td>\n",
       "    </tr>\n",
       "    <tr>\n",
       "      <th>79</th>\n",
       "      <td>KP281</td>\n",
       "      <td>50</td>\n",
       "      <td>Female</td>\n",
       "      <td>Undergraduate</td>\n",
       "      <td>Partnered</td>\n",
       "      <td>Occassional</td>\n",
       "      <td>3</td>\n",
       "      <td>64809</td>\n",
       "      <td>66</td>\n",
       "      <td>High</td>\n",
       "    </tr>\n",
       "    <tr>\n",
       "      <th>86</th>\n",
       "      <td>KP481</td>\n",
       "      <td>21</td>\n",
       "      <td>Male</td>\n",
       "      <td>High School</td>\n",
       "      <td>Partnered</td>\n",
       "      <td>Rare</td>\n",
       "      <td>2</td>\n",
       "      <td>32973</td>\n",
       "      <td>53</td>\n",
       "      <td>Very Low</td>\n",
       "    </tr>\n",
       "    <tr>\n",
       "      <th>23</th>\n",
       "      <td>KP281</td>\n",
       "      <td>24</td>\n",
       "      <td>Female</td>\n",
       "      <td>Undergraduate</td>\n",
       "      <td>Partnered</td>\n",
       "      <td>Above Average</td>\n",
       "      <td>5</td>\n",
       "      <td>44343</td>\n",
       "      <td>188</td>\n",
       "      <td>Below Average</td>\n",
       "    </tr>\n",
       "    <tr>\n",
       "      <th>59</th>\n",
       "      <td>KP281</td>\n",
       "      <td>33</td>\n",
       "      <td>Female</td>\n",
       "      <td>Undergraduate</td>\n",
       "      <td>Single</td>\n",
       "      <td>Rare</td>\n",
       "      <td>2</td>\n",
       "      <td>55713</td>\n",
       "      <td>38</td>\n",
       "      <td>Above Average</td>\n",
       "    </tr>\n",
       "    <tr>\n",
       "      <th>130</th>\n",
       "      <td>KP481</td>\n",
       "      <td>35</td>\n",
       "      <td>Female</td>\n",
       "      <td>Undergraduate</td>\n",
       "      <td>Single</td>\n",
       "      <td>Occassional</td>\n",
       "      <td>2</td>\n",
       "      <td>50028</td>\n",
       "      <td>64</td>\n",
       "      <td>Average</td>\n",
       "    </tr>\n",
       "  </tbody>\n",
       "</table>\n",
       "</div>"
      ],
      "text/plain": [
       "    Product  Age  Gender             Education MaritalStatus          Usage  \\\n",
       "18    KP281   23  Female         Undergraduate        Single        Average   \n",
       "116   KP481   31  Female         Undergraduate     Partnered           Rare   \n",
       "1     KP281   19    Male         Undergraduate        Single           Rare   \n",
       "128   KP481   35  Female               Diploma     Partnered    Occassional   \n",
       "156   KP781   25    Male  Doctor or equivalent     Partnered        Average   \n",
       "79    KP281   50  Female         Undergraduate     Partnered    Occassional   \n",
       "86    KP481   21    Male           High School     Partnered           Rare   \n",
       "23    KP281   24  Female         Undergraduate     Partnered  Above Average   \n",
       "59    KP281   33  Female         Undergraduate        Single           Rare   \n",
       "130   KP481   35  Female         Undergraduate        Single    Occassional   \n",
       "\n",
       "     Fitness  Income  Miles    Income Type  \n",
       "18         3   38658    113            Low  \n",
       "116        3   51165     64        Average  \n",
       "1          3   31836     75       Very Low  \n",
       "128        2   52302     53        Average  \n",
       "156        5   74701    170           High  \n",
       "79         3   64809     66           High  \n",
       "86         2   32973     53       Very Low  \n",
       "23         5   44343    188  Below Average  \n",
       "59         2   55713     38  Above Average  \n",
       "130        2   50028     64        Average  "
      ]
     },
     "execution_count": 20,
     "metadata": {},
     "output_type": "execute_result"
    }
   ],
   "source": [
    "data.sample(10)"
   ]
  },
  {
   "cell_type": "markdown",
   "id": "53226a44",
   "metadata": {},
   "source": [
    "# EDA on Single Dataset"
   ]
  },
  {
   "cell_type": "code",
   "execution_count": 21,
   "id": "5d768575",
   "metadata": {},
   "outputs": [
    {
     "data": {
      "text/plain": [
       "KP281    80\n",
       "KP481    60\n",
       "KP781    40\n",
       "Name: Product, dtype: int64"
      ]
     },
     "execution_count": 21,
     "metadata": {},
     "output_type": "execute_result"
    }
   ],
   "source": [
    "data['Product'].value_counts()"
   ]
  },
  {
   "cell_type": "code",
   "execution_count": 22,
   "id": "9c628ad0",
   "metadata": {},
   "outputs": [
    {
     "data": {
      "text/plain": [
       "[]"
      ]
     },
     "execution_count": 22,
     "metadata": {},
     "output_type": "execute_result"
    },
    {
     "data": {
      "image/png": "[encoded data removed]",
      "text/plain": [
       "<Figure size 432x288 with 1 Axes>"
      ]
     },
     "metadata": {},
     "output_type": "display_data"
    }
   ],
   "source": [
    "plt.pie(data['Product'].value_counts(), labels = ['KP281', 'KP481', 'KP781'], autopct = '%.0f%%')\n",
    "plt.plot()"
   ]
  },
  {
   "cell_type": "code",
   "execution_count": 23,
   "id": "4abb9b80",
   "metadata": {},
   "outputs": [
    {
     "data": {
      "text/plain": [
       "[]"
      ]
     },
     "execution_count": 23,
     "metadata": {},
     "output_type": "execute_result"
    },
    {
     "data": {
      "image/png": "[encoded data removed]",
      "text/plain": [
       "<Figure size 432x288 with 1 Axes>"
      ]
     },
     "metadata": {
      "needs_background": "light"
     },
     "output_type": "display_data"
    }
   ],
   "source": [
    "plt.plot(data['Product'].value_counts())\n",
    "plt.xlabel('Product')\n",
    "plt.ylabel('No. of Customers')\n",
    "plt.plot()"
   ]
  },
  {
   "cell_type": "markdown",
   "id": "056b1973",
   "metadata": {},
   "source": [
    "KP281 which goes on sale for 1500USD has the most number of customers in the data, KP481 for 1750USD the second highest and KP781 the least.\n",
    "So the number of customers has an inverse relationship to the price of the Product as per the data."
   ]
  },
  {
   "cell_type": "markdown",
   "id": "d9f6ca14",
   "metadata": {},
   "source": [
    "Value Counts for categorical variables with respect to the Products"
   ]
  },
  {
   "cell_type": "code",
   "execution_count": 24,
   "id": "f3126fef",
   "metadata": {},
   "outputs": [
    {
     "data": {
      "text/plain": [
       "Product  Gender\n",
       "KP281    Female    40\n",
       "         Male      40\n",
       "KP781    Male      33\n",
       "KP481    Male      31\n",
       "         Female    29\n",
       "KP781    Female     7\n",
       "dtype: int64"
      ]
     },
     "execution_count": 24,
     "metadata": {},
     "output_type": "execute_result"
    }
   ],
   "source": [
    "data[['Product', 'Gender']].value_counts()"
   ]
  },
  {
   "cell_type": "code",
   "execution_count": 25,
   "id": "d70330e2",
   "metadata": {},
   "outputs": [
    {
     "data": {
      "text/plain": [
       "Product  Education           \n",
       "KP281    Undergraduate           43\n",
       "         Diploma                 33\n",
       "KP481    Undergraduate           32\n",
       "         Diploma                 25\n",
       "KP781    Post-Grad               19\n",
       "         Undergraduate           15\n",
       "         Doctor or equivalent     4\n",
       "KP281    High School              2\n",
       "         Post-Grad                2\n",
       "KP481    Post-Grad                2\n",
       "KP781    Diploma                  2\n",
       "KP481    High School              1\n",
       "dtype: int64"
      ]
     },
     "execution_count": 25,
     "metadata": {},
     "output_type": "execute_result"
    }
   ],
   "source": [
    "data[['Product', 'Education']].value_counts()"
   ]
  },
  {
   "cell_type": "code",
   "execution_count": 26,
   "id": "f6ed3ec3",
   "metadata": {},
   "outputs": [
    {
     "data": {
      "text/plain": [
       "Product  MaritalStatus\n",
       "KP281    Partnered        48\n",
       "KP481    Partnered        36\n",
       "KP281    Single           32\n",
       "KP481    Single           24\n",
       "KP781    Partnered        23\n",
       "         Single           17\n",
       "dtype: int64"
      ]
     },
     "execution_count": 26,
     "metadata": {},
     "output_type": "execute_result"
    }
   ],
   "source": [
    "data[['Product', 'MaritalStatus']].value_counts()"
   ]
  },
  {
   "cell_type": "code",
   "execution_count": 27,
   "id": "28dadbf8",
   "metadata": {},
   "outputs": [
    {
     "data": {
      "text/plain": [
       "Product  Usage        \n",
       "KP281    Occassional      37\n",
       "KP481    Occassional      31\n",
       "KP281    Average          22\n",
       "         Rare             19\n",
       "KP781    Average          18\n",
       "KP481    Rare             14\n",
       "         Average          12\n",
       "KP781    Above Average    12\n",
       "         Regular           7\n",
       "KP481    Above Average     3\n",
       "KP281    Above Average     2\n",
       "KP781    Frequent          2\n",
       "         Occassional       1\n",
       "dtype: int64"
      ]
     },
     "execution_count": 27,
     "metadata": {},
     "output_type": "execute_result"
    }
   ],
   "source": [
    "data[['Product', 'Usage']].value_counts()"
   ]
  },
  {
   "cell_type": "code",
   "execution_count": 28,
   "id": "b093aeed",
   "metadata": {},
   "outputs": [
    {
     "data": {
      "text/html": [
       "<div>\n",
       "<style scoped>\n",
       "    .dataframe tbody tr th:only-of-type {\n",
       "        vertical-align: middle;\n",
       "    }\n",
       "\n",
       "    .dataframe tbody tr th {\n",
       "        vertical-align: top;\n",
       "    }\n",
       "\n",
       "    .dataframe thead th {\n",
       "        text-align: right;\n",
       "    }\n",
       "</style>\n",
       "<table border=\"1\" class=\"dataframe\">\n",
       "  <thead>\n",
       "    <tr style=\"text-align: right;\">\n",
       "      <th>Gender</th>\n",
       "      <th>Female</th>\n",
       "      <th>Male</th>\n",
       "    </tr>\n",
       "    <tr>\n",
       "      <th>Product</th>\n",
       "      <th></th>\n",
       "      <th></th>\n",
       "    </tr>\n",
       "  </thead>\n",
       "  <tbody>\n",
       "    <tr>\n",
       "      <th>KP281</th>\n",
       "      <td>0.500000</td>\n",
       "      <td>0.500000</td>\n",
       "    </tr>\n",
       "    <tr>\n",
       "      <th>KP481</th>\n",
       "      <td>0.483333</td>\n",
       "      <td>0.516667</td>\n",
       "    </tr>\n",
       "    <tr>\n",
       "      <th>KP781</th>\n",
       "      <td>0.175000</td>\n",
       "      <td>0.825000</td>\n",
       "    </tr>\n",
       "  </tbody>\n",
       "</table>\n",
       "</div>"
      ],
      "text/plain": [
       "Gender     Female      Male\n",
       "Product                    \n",
       "KP281    0.500000  0.500000\n",
       "KP481    0.483333  0.516667\n",
       "KP781    0.175000  0.825000"
      ]
     },
     "execution_count": 28,
     "metadata": {},
     "output_type": "execute_result"
    }
   ],
   "source": [
    "pd.crosstab(index = data['Product'], columns = data['Gender'], normalize = 'index')"
   ]
  },
  {
   "cell_type": "code",
   "execution_count": 29,
   "id": "2fd2a2b0",
   "metadata": {},
   "outputs": [
    {
     "data": {
      "text/plain": [
       "[]"
      ]
     },
     "execution_count": 29,
     "metadata": {},
     "output_type": "execute_result"
    },
    {
     "data": {
      "image/png": "[encoded data removed]",
      "text/plain": [
       "<Figure size 864x216 with 3 Axes>"
      ]
     },
     "metadata": {},
     "output_type": "display_data"
    }
   ],
   "source": [
    "plt.figure(figsize = (12,3))\n",
    "plt.subplot(1,3,1)\n",
    "plt.pie(data[data['Product']=='KP281']['Gender'].value_counts(), labels = ['Male', 'Female'], autopct = '%.0f%%')\n",
    "plt.title('KP281')\n",
    "plt.plot()\n",
    "plt.subplot(1,3,2)\n",
    "plt.pie(data[data['Product']=='KP481']['Gender'].value_counts(), labels = ['Male', 'Female'], autopct = '%.0f%%')\n",
    "plt.title('KP481')\n",
    "plt.plot()\n",
    "plt.subplot(1,3,3)\n",
    "plt.pie(data[data['Product']=='KP781']['Gender'].value_counts(), labels = ['Male', 'Female'], autopct = '%.0f%%')\n",
    "plt.title('KP781')\n",
    "plt.plot()"
   ]
  },
  {
   "cell_type": "markdown",
   "id": "9e633db7",
   "metadata": {},
   "source": [
    "Both Cheaper categories of Products KP281 and KP481 have equivalent distribution (50%-50%) of customers of the Male and Female genders. \n",
    "But, among 40 customers of KP781, 82.5% are Males and 17.5% are Females. This shows that Males are more likely to buy the higher priced Product when compared with Females."
   ]
  },
  {
   "cell_type": "code",
   "execution_count": 30,
   "id": "40fcad82",
   "metadata": {},
   "outputs": [
    {
     "data": {
      "text/plain": [
       "[]"
      ]
     },
     "execution_count": 30,
     "metadata": {},
     "output_type": "execute_result"
    },
    {
     "data": {
      "image/png": "[encoded data removed]",
      "text/plain": [
       "<Figure size 1440x720 with 2 Axes>"
      ]
     },
     "metadata": {
      "needs_background": "light"
     },
     "output_type": "display_data"
    }
   ],
   "source": [
    "plt.figure(figsize = (20,10))\n",
    "plt.subplot(1,2,1)\n",
    "plt.plot(data[data['Gender']=='Male']['Income Type'].value_counts())\n",
    "plt.xlabel('Income Type')\n",
    "plt.xticks(rotation = 90)\n",
    "plt.ylabel('No. of Customers')\n",
    "plt.title('Male')\n",
    "plt.subplot(1,2,2)\n",
    "plt.plot(data[data['Gender']=='Female']['Income Type'].value_counts())\n",
    "plt.xlabel('Income Type')\n",
    "plt.xticks(rotation = 90)\n",
    "plt.ylabel('No. of Customers')\n",
    "plt.title('Female')\n",
    "plt.plot()"
   ]
  },
  {
   "cell_type": "code",
   "execution_count": 31,
   "id": "ab89cae4",
   "metadata": {},
   "outputs": [
    {
     "name": "stderr",
     "output_type": "stream",
     "text": [
      "C:\\Users\\Nischay\\anaconda3\\lib\\site-packages\\seaborn\\_decorators.py:36: FutureWarning: Pass the following variable as a keyword arg: x. From version 0.12, the only valid positional argument will be `data`, and passing other arguments without an explicit keyword will result in an error or misinterpretation.\n",
      "  warnings.warn(\n",
      "C:\\Users\\Nischay\\anaconda3\\lib\\site-packages\\seaborn\\_decorators.py:36: FutureWarning: Pass the following variable as a keyword arg: x. From version 0.12, the only valid positional argument will be `data`, and passing other arguments without an explicit keyword will result in an error or misinterpretation.\n",
      "  warnings.warn(\n",
      "C:\\Users\\Nischay\\anaconda3\\lib\\site-packages\\seaborn\\_decorators.py:36: FutureWarning: Pass the following variable as a keyword arg: x. From version 0.12, the only valid positional argument will be `data`, and passing other arguments without an explicit keyword will result in an error or misinterpretation.\n",
      "  warnings.warn(\n"
     ]
    },
    {
     "data": {
      "text/plain": [
       "[]"
      ]
     },
     "execution_count": 31,
     "metadata": {},
     "output_type": "execute_result"
    },
    {
     "data": {
      "image/png": "[encoded data removed]",
      "text/plain": [
       "<Figure size 1440x360 with 3 Axes>"
      ]
     },
     "metadata": {
      "needs_background": "light"
     },
     "output_type": "display_data"
    }
   ],
   "source": [
    "plt.figure(figsize = (20,5))\n",
    "plt.subplot(1,3,1)\n",
    "sns.countplot(data[data['Product']=='KP281']['Education'])\n",
    "plt.title('KP281')\n",
    "plt.plot()\n",
    "plt.subplot(1,3,2)\n",
    "sns.countplot(data[data['Product']=='KP481']['Education'])\n",
    "plt.title('KP481')\n",
    "plt.plot()\n",
    "plt.subplot(1,3,3)\n",
    "sns.countplot(data[data['Product']=='KP781']['Education'])\n",
    "plt.title('KP781')\n",
    "plt.plot()"
   ]
  },
  {
   "cell_type": "code",
   "execution_count": 32,
   "id": "6a411376",
   "metadata": {},
   "outputs": [],
   "source": [
    "prod_ed = pd.crosstab(index = data['Product'], columns = data['Education'], normalize = 'index')"
   ]
  },
  {
   "cell_type": "code",
   "execution_count": 33,
   "id": "ea01913e",
   "metadata": {},
   "outputs": [],
   "source": [
    "usage_ed =  pd.crosstab(index = data['Education'], columns = data['Usage'], normalize = 'index')"
   ]
  },
  {
   "cell_type": "code",
   "execution_count": 34,
   "id": "9c339086",
   "metadata": {},
   "outputs": [],
   "source": [
    "def prob_color(x):\n",
    "    if x>=0.1:\n",
    "        color = 'blue' \n",
    "    elif x<0.1 and x>0:\n",
    "        color = 'red'\n",
    "    else: \n",
    "        color = 'black'\n",
    "    return 'color: %s' %color"
   ]
  },
  {
   "cell_type": "code",
   "execution_count": 35,
   "id": "2aec821d",
   "metadata": {},
   "outputs": [
    {
     "data": {
      "text/html": [
       "<style type=\"text/css\">\n",
       "#T_a316a_row0_col0, #T_a316a_row0_col4, #T_a316a_row1_col0, #T_a316a_row1_col4, #T_a316a_row2_col1, #T_a316a_row2_col3, #T_a316a_row2_col4 {\n",
       "  color: blue;\n",
       "}\n",
       "#T_a316a_row0_col1, #T_a316a_row1_col1, #T_a316a_row2_col2 {\n",
       "  color: black;\n",
       "}\n",
       "#T_a316a_row0_col2, #T_a316a_row0_col3, #T_a316a_row1_col2, #T_a316a_row1_col3, #T_a316a_row2_col0 {\n",
       "  color: red;\n",
       "}\n",
       "</style>\n",
       "<table id=\"T_a316a_\">\n",
       "  <thead>\n",
       "    <tr>\n",
       "      <th class=\"index_name level0\" >Education</th>\n",
       "      <th class=\"col_heading level0 col0\" >Diploma</th>\n",
       "      <th class=\"col_heading level0 col1\" >Doctor or equivalent</th>\n",
       "      <th class=\"col_heading level0 col2\" >High School</th>\n",
       "      <th class=\"col_heading level0 col3\" >Post-Grad</th>\n",
       "      <th class=\"col_heading level0 col4\" >Undergraduate</th>\n",
       "    </tr>\n",
       "    <tr>\n",
       "      <th class=\"index_name level0\" >Product</th>\n",
       "      <th class=\"blank col0\" >&nbsp;</th>\n",
       "      <th class=\"blank col1\" >&nbsp;</th>\n",
       "      <th class=\"blank col2\" >&nbsp;</th>\n",
       "      <th class=\"blank col3\" >&nbsp;</th>\n",
       "      <th class=\"blank col4\" >&nbsp;</th>\n",
       "    </tr>\n",
       "  </thead>\n",
       "  <tbody>\n",
       "    <tr>\n",
       "      <th id=\"T_a316a_level0_row0\" class=\"row_heading level0 row0\" >KP281</th>\n",
       "      <td id=\"T_a316a_row0_col0\" class=\"data row0 col0\" >0.412500</td>\n",
       "      <td id=\"T_a316a_row0_col1\" class=\"data row0 col1\" >0.000000</td>\n",
       "      <td id=\"T_a316a_row0_col2\" class=\"data row0 col2\" >0.025000</td>\n",
       "      <td id=\"T_a316a_row0_col3\" class=\"data row0 col3\" >0.025000</td>\n",
       "      <td id=\"T_a316a_row0_col4\" class=\"data row0 col4\" >0.537500</td>\n",
       "    </tr>\n",
       "    <tr>\n",
       "      <th id=\"T_a316a_level0_row1\" class=\"row_heading level0 row1\" >KP481</th>\n",
       "      <td id=\"T_a316a_row1_col0\" class=\"data row1 col0\" >0.416667</td>\n",
       "      <td id=\"T_a316a_row1_col1\" class=\"data row1 col1\" >0.000000</td>\n",
       "      <td id=\"T_a316a_row1_col2\" class=\"data row1 col2\" >0.016667</td>\n",
       "      <td id=\"T_a316a_row1_col3\" class=\"data row1 col3\" >0.033333</td>\n",
       "      <td id=\"T_a316a_row1_col4\" class=\"data row1 col4\" >0.533333</td>\n",
       "    </tr>\n",
       "    <tr>\n",
       "      <th id=\"T_a316a_level0_row2\" class=\"row_heading level0 row2\" >KP781</th>\n",
       "      <td id=\"T_a316a_row2_col0\" class=\"data row2 col0\" >0.050000</td>\n",
       "      <td id=\"T_a316a_row2_col1\" class=\"data row2 col1\" >0.100000</td>\n",
       "      <td id=\"T_a316a_row2_col2\" class=\"data row2 col2\" >0.000000</td>\n",
       "      <td id=\"T_a316a_row2_col3\" class=\"data row2 col3\" >0.475000</td>\n",
       "      <td id=\"T_a316a_row2_col4\" class=\"data row2 col4\" >0.375000</td>\n",
       "    </tr>\n",
       "  </tbody>\n",
       "</table>\n"
      ],
      "text/plain": [
       "<pandas.io.formats.style.Styler at 0x201de0c3d00>"
      ]
     },
     "execution_count": 35,
     "metadata": {},
     "output_type": "execute_result"
    }
   ],
   "source": [
    "prod_ed.style.applymap(prob_color)"
   ]
  },
  {
   "cell_type": "code",
   "execution_count": 36,
   "id": "624b44ef",
   "metadata": {},
   "outputs": [
    {
     "data": {
      "text/html": [
       "<style type=\"text/css\">\n",
       "#T_996cd_row0_col0, #T_996cd_row0_col2, #T_996cd_row3_col2, #T_996cd_row3_col4, #T_996cd_row4_col0, #T_996cd_row4_col5 {\n",
       "  color: red;\n",
       "}\n",
       "#T_996cd_row0_col1, #T_996cd_row0_col3, #T_996cd_row0_col4, #T_996cd_row1_col1, #T_996cd_row1_col5, #T_996cd_row2_col1, #T_996cd_row2_col3, #T_996cd_row2_col4, #T_996cd_row3_col0, #T_996cd_row3_col1, #T_996cd_row3_col3, #T_996cd_row3_col5, #T_996cd_row4_col1, #T_996cd_row4_col3, #T_996cd_row4_col4 {\n",
       "  color: blue;\n",
       "}\n",
       "#T_996cd_row0_col5, #T_996cd_row1_col0, #T_996cd_row1_col2, #T_996cd_row1_col3, #T_996cd_row1_col4, #T_996cd_row2_col0, #T_996cd_row2_col2, #T_996cd_row2_col5, #T_996cd_row4_col2 {\n",
       "  color: black;\n",
       "}\n",
       "</style>\n",
       "<table id=\"T_996cd_\">\n",
       "  <thead>\n",
       "    <tr>\n",
       "      <th class=\"index_name level0\" >Usage</th>\n",
       "      <th class=\"col_heading level0 col0\" >Above Average</th>\n",
       "      <th class=\"col_heading level0 col1\" >Average</th>\n",
       "      <th class=\"col_heading level0 col2\" >Frequent</th>\n",
       "      <th class=\"col_heading level0 col3\" >Occassional</th>\n",
       "      <th class=\"col_heading level0 col4\" >Rare</th>\n",
       "      <th class=\"col_heading level0 col5\" >Regular</th>\n",
       "    </tr>\n",
       "    <tr>\n",
       "      <th class=\"index_name level0\" >Education</th>\n",
       "      <th class=\"blank col0\" >&nbsp;</th>\n",
       "      <th class=\"blank col1\" >&nbsp;</th>\n",
       "      <th class=\"blank col2\" >&nbsp;</th>\n",
       "      <th class=\"blank col3\" >&nbsp;</th>\n",
       "      <th class=\"blank col4\" >&nbsp;</th>\n",
       "      <th class=\"blank col5\" >&nbsp;</th>\n",
       "    </tr>\n",
       "  </thead>\n",
       "  <tbody>\n",
       "    <tr>\n",
       "      <th id=\"T_996cd_level0_row0\" class=\"row_heading level0 row0\" >Diploma</th>\n",
       "      <td id=\"T_996cd_row0_col0\" class=\"data row0 col0\" >0.033333</td>\n",
       "      <td id=\"T_996cd_row0_col1\" class=\"data row0 col1\" >0.200000</td>\n",
       "      <td id=\"T_996cd_row0_col2\" class=\"data row0 col2\" >0.016667</td>\n",
       "      <td id=\"T_996cd_row0_col3\" class=\"data row0 col3\" >0.500000</td>\n",
       "      <td id=\"T_996cd_row0_col4\" class=\"data row0 col4\" >0.250000</td>\n",
       "      <td id=\"T_996cd_row0_col5\" class=\"data row0 col5\" >0.000000</td>\n",
       "    </tr>\n",
       "    <tr>\n",
       "      <th id=\"T_996cd_level0_row1\" class=\"row_heading level0 row1\" >Doctor or equivalent</th>\n",
       "      <td id=\"T_996cd_row1_col0\" class=\"data row1 col0\" >0.000000</td>\n",
       "      <td id=\"T_996cd_row1_col1\" class=\"data row1 col1\" >0.750000</td>\n",
       "      <td id=\"T_996cd_row1_col2\" class=\"data row1 col2\" >0.000000</td>\n",
       "      <td id=\"T_996cd_row1_col3\" class=\"data row1 col3\" >0.000000</td>\n",
       "      <td id=\"T_996cd_row1_col4\" class=\"data row1 col4\" >0.000000</td>\n",
       "      <td id=\"T_996cd_row1_col5\" class=\"data row1 col5\" >0.250000</td>\n",
       "    </tr>\n",
       "    <tr>\n",
       "      <th id=\"T_996cd_level0_row2\" class=\"row_heading level0 row2\" >High School</th>\n",
       "      <td id=\"T_996cd_row2_col0\" class=\"data row2 col0\" >0.000000</td>\n",
       "      <td id=\"T_996cd_row2_col1\" class=\"data row2 col1\" >0.333333</td>\n",
       "      <td id=\"T_996cd_row2_col2\" class=\"data row2 col2\" >0.000000</td>\n",
       "      <td id=\"T_996cd_row2_col3\" class=\"data row2 col3\" >0.333333</td>\n",
       "      <td id=\"T_996cd_row2_col4\" class=\"data row2 col4\" >0.333333</td>\n",
       "      <td id=\"T_996cd_row2_col5\" class=\"data row2 col5\" >0.000000</td>\n",
       "    </tr>\n",
       "    <tr>\n",
       "      <th id=\"T_996cd_level0_row3\" class=\"row_heading level0 row3\" >Post-Grad</th>\n",
       "      <td id=\"T_996cd_row3_col0\" class=\"data row3 col0\" >0.304348</td>\n",
       "      <td id=\"T_996cd_row3_col1\" class=\"data row3 col1\" >0.304348</td>\n",
       "      <td id=\"T_996cd_row3_col2\" class=\"data row3 col2\" >0.043478</td>\n",
       "      <td id=\"T_996cd_row3_col3\" class=\"data row3 col3\" >0.130435</td>\n",
       "      <td id=\"T_996cd_row3_col4\" class=\"data row3 col4\" >0.043478</td>\n",
       "      <td id=\"T_996cd_row3_col5\" class=\"data row3 col5\" >0.173913</td>\n",
       "    </tr>\n",
       "    <tr>\n",
       "      <th id=\"T_996cd_level0_row4\" class=\"row_heading level0 row4\" >Undergraduate</th>\n",
       "      <td id=\"T_996cd_row4_col0\" class=\"data row4 col0\" >0.088889</td>\n",
       "      <td id=\"T_996cd_row4_col1\" class=\"data row4 col1\" >0.322222</td>\n",
       "      <td id=\"T_996cd_row4_col2\" class=\"data row4 col2\" >0.000000</td>\n",
       "      <td id=\"T_996cd_row4_col3\" class=\"data row4 col3\" >0.388889</td>\n",
       "      <td id=\"T_996cd_row4_col4\" class=\"data row4 col4\" >0.177778</td>\n",
       "      <td id=\"T_996cd_row4_col5\" class=\"data row4 col5\" >0.022222</td>\n",
       "    </tr>\n",
       "  </tbody>\n",
       "</table>\n"
      ],
      "text/plain": [
       "<pandas.io.formats.style.Styler at 0x201de229cd0>"
      ]
     },
     "execution_count": 36,
     "metadata": {},
     "output_type": "execute_result"
    }
   ],
   "source": [
    "usage_ed.style.applymap(prob_color)"
   ]
  },
  {
   "cell_type": "code",
   "execution_count": 37,
   "id": "69f1cf95",
   "metadata": {},
   "outputs": [
    {
     "data": {
      "text/html": [
       "<style type=\"text/css\">\n",
       "#T_d5e3b_row0_col0, #T_d5e3b_row1_col0, #T_d5e3b_row2_col2, #T_d5e3b_row2_col3 {\n",
       "  color: red;\n",
       "}\n",
       "#T_d5e3b_row0_col1, #T_d5e3b_row0_col3, #T_d5e3b_row0_col4, #T_d5e3b_row1_col1, #T_d5e3b_row1_col3, #T_d5e3b_row1_col4, #T_d5e3b_row2_col0, #T_d5e3b_row2_col1, #T_d5e3b_row2_col5 {\n",
       "  color: blue;\n",
       "}\n",
       "#T_d5e3b_row0_col2, #T_d5e3b_row0_col5, #T_d5e3b_row1_col2, #T_d5e3b_row1_col5, #T_d5e3b_row2_col4 {\n",
       "  color: black;\n",
       "}\n",
       "</style>\n",
       "<table id=\"T_d5e3b_\">\n",
       "  <thead>\n",
       "    <tr>\n",
       "      <th class=\"index_name level0\" >Usage</th>\n",
       "      <th class=\"col_heading level0 col0\" >Above Average</th>\n",
       "      <th class=\"col_heading level0 col1\" >Average</th>\n",
       "      <th class=\"col_heading level0 col2\" >Frequent</th>\n",
       "      <th class=\"col_heading level0 col3\" >Occassional</th>\n",
       "      <th class=\"col_heading level0 col4\" >Rare</th>\n",
       "      <th class=\"col_heading level0 col5\" >Regular</th>\n",
       "    </tr>\n",
       "    <tr>\n",
       "      <th class=\"index_name level0\" >Product</th>\n",
       "      <th class=\"blank col0\" >&nbsp;</th>\n",
       "      <th class=\"blank col1\" >&nbsp;</th>\n",
       "      <th class=\"blank col2\" >&nbsp;</th>\n",
       "      <th class=\"blank col3\" >&nbsp;</th>\n",
       "      <th class=\"blank col4\" >&nbsp;</th>\n",
       "      <th class=\"blank col5\" >&nbsp;</th>\n",
       "    </tr>\n",
       "  </thead>\n",
       "  <tbody>\n",
       "    <tr>\n",
       "      <th id=\"T_d5e3b_level0_row0\" class=\"row_heading level0 row0\" >KP281</th>\n",
       "      <td id=\"T_d5e3b_row0_col0\" class=\"data row0 col0\" >0.025000</td>\n",
       "      <td id=\"T_d5e3b_row0_col1\" class=\"data row0 col1\" >0.275000</td>\n",
       "      <td id=\"T_d5e3b_row0_col2\" class=\"data row0 col2\" >0.000000</td>\n",
       "      <td id=\"T_d5e3b_row0_col3\" class=\"data row0 col3\" >0.462500</td>\n",
       "      <td id=\"T_d5e3b_row0_col4\" class=\"data row0 col4\" >0.237500</td>\n",
       "      <td id=\"T_d5e3b_row0_col5\" class=\"data row0 col5\" >0.000000</td>\n",
       "    </tr>\n",
       "    <tr>\n",
       "      <th id=\"T_d5e3b_level0_row1\" class=\"row_heading level0 row1\" >KP481</th>\n",
       "      <td id=\"T_d5e3b_row1_col0\" class=\"data row1 col0\" >0.050000</td>\n",
       "      <td id=\"T_d5e3b_row1_col1\" class=\"data row1 col1\" >0.200000</td>\n",
       "      <td id=\"T_d5e3b_row1_col2\" class=\"data row1 col2\" >0.000000</td>\n",
       "      <td id=\"T_d5e3b_row1_col3\" class=\"data row1 col3\" >0.516667</td>\n",
       "      <td id=\"T_d5e3b_row1_col4\" class=\"data row1 col4\" >0.233333</td>\n",
       "      <td id=\"T_d5e3b_row1_col5\" class=\"data row1 col5\" >0.000000</td>\n",
       "    </tr>\n",
       "    <tr>\n",
       "      <th id=\"T_d5e3b_level0_row2\" class=\"row_heading level0 row2\" >KP781</th>\n",
       "      <td id=\"T_d5e3b_row2_col0\" class=\"data row2 col0\" >0.300000</td>\n",
       "      <td id=\"T_d5e3b_row2_col1\" class=\"data row2 col1\" >0.450000</td>\n",
       "      <td id=\"T_d5e3b_row2_col2\" class=\"data row2 col2\" >0.050000</td>\n",
       "      <td id=\"T_d5e3b_row2_col3\" class=\"data row2 col3\" >0.025000</td>\n",
       "      <td id=\"T_d5e3b_row2_col4\" class=\"data row2 col4\" >0.000000</td>\n",
       "      <td id=\"T_d5e3b_row2_col5\" class=\"data row2 col5\" >0.175000</td>\n",
       "    </tr>\n",
       "  </tbody>\n",
       "</table>\n"
      ],
      "text/plain": [
       "<pandas.io.formats.style.Styler at 0x201de0e9dc0>"
      ]
     },
     "execution_count": 37,
     "metadata": {},
     "output_type": "execute_result"
    }
   ],
   "source": [
    "pd.crosstab(index = data['Product'], columns = data['Usage'], normalize = 'index').style.applymap(prob_color)"
   ]
  },
  {
   "cell_type": "markdown",
   "id": "488b2b28",
   "metadata": {},
   "source": [
    "Key Insights:\n",
    "1: Probability of customers having a Diploma or Undergraduate degree and Purchasing the KP281 and KP481 have the highest Probability values of 0.4125 and 0.4167 respectively. \n",
    "\n",
    "2: Customers having a Diploma or Undergraduate degree have higher probabilities of being an Occassional User(0.5 and 0.39) or Average user(0.2 and 0.32). \n",
    "This matches with the Probability values of owning KP281/KP481 and being an occassional User(0.46/0.52), or being an Average User(0.275/0.2).Hence, the People with undergraduate or Diploma degrees tend to make the customer profiles and the target customers for KP281 and KP481. \n",
    "\n",
    "3: The Probability of customers usage being Average, Above average or regular and owning the KP781 is 0.925. This shows that owning a KP781 definitely depends on the usage of customers.\n",
    "\n",
    "4: A consistency in probability values is observed for Post-Grad qualification customers, as their Above average and Regular Usage Probabilities are around 0.47. While the Probability of Post Grad customers owning the KP781 is also the highest, 0.475. This is a very clear parameter. Hence, customers with a Post graduate degree, do tend to have a higher usage for the equipment and they definitely are more likely to buy the KP781. \n",
    "\n",
    "\n",
    "Since customers holding the High School Education or lower and buying either of the 3 models have a very low probability of less than 0.1 and them being an occassional or rare  user>0.5, hence they should not be considered as target customers by Aerofit.\n"
   ]
  },
  {
   "cell_type": "markdown",
   "id": "330f3f79",
   "metadata": {},
   "source": [
    "    Comparing Incomes of customers with education levels to conclude that education level impacts the purchase of higher or lower priced models."
   ]
  },
  {
   "cell_type": "code",
   "execution_count": 38,
   "id": "2a022e4a",
   "metadata": {},
   "outputs": [
    {
     "data": {
      "text/plain": [
       "[]"
      ]
     },
     "execution_count": 38,
     "metadata": {},
     "output_type": "execute_result"
    },
    {
     "data": {
      "image/png": "[encoded data removed]",
      "text/plain": [
       "<Figure size 1440x720 with 3 Axes>"
      ]
     },
     "metadata": {
      "needs_background": "light"
     },
     "output_type": "display_data"
    }
   ],
   "source": [
    "plt.figure(figsize = (20,10))\n",
    "plt.subplot(1,3,1)\n",
    "plt.plot(data[data['Product']=='KP281']['Income Type'].value_counts())\n",
    "plt.xlabel('Income Type')\n",
    "plt.xticks(rotation = 90)\n",
    "plt.ylabel('No. of Customers')\n",
    "plt.title('KP281')\n",
    "plt.subplot(1,3,2)\n",
    "plt.plot(data[data['Product']=='KP481']['Income Type'].value_counts())\n",
    "plt.xlabel('Income Type')\n",
    "plt.xticks(rotation = 90)\n",
    "plt.ylabel('No. of Customers')\n",
    "plt.title('KP481')\n",
    "plt.subplot(1,3,3)\n",
    "plt.plot(data[data['Product']=='KP781']['Income Type'].value_counts())\n",
    "plt.xlabel('Income Type')\n",
    "plt.xticks(rotation = 90)\n",
    "plt.ylabel('No. of Customers')\n",
    "plt.title('KP781')\n",
    "plt.plot()"
   ]
  },
  {
   "cell_type": "markdown",
   "id": "03cda66b",
   "metadata": {},
   "source": [
    "The Maximum number of customers tend to have an average income and less than 10 customers tend to have very low and very high incomes. This is somewhat in conjunction of the earlier observation that the customers buying KP"
   ]
  },
  {
   "cell_type": "code",
   "execution_count": 39,
   "id": "5fedcf9e",
   "metadata": {},
   "outputs": [
    {
     "data": {
      "text/plain": [
       "[]"
      ]
     },
     "execution_count": 39,
     "metadata": {},
     "output_type": "execute_result"
    },
    {
     "data": {
      "image/png": "[encoded data removed]",
      "text/plain": [
       "<Figure size 1440x720 with 2 Axes>"
      ]
     },
     "metadata": {
      "needs_background": "light"
     },
     "output_type": "display_data"
    }
   ],
   "source": [
    "plt.figure(figsize = (20,10))\n",
    "plt.subplot(1,2,1)\n",
    "sns.boxplot(y=data['Income'], x = data['Product'])\n",
    "plt.plot()\n",
    "plt.subplot(1,2,2)\n",
    "sns.boxplot(y=data['Income'], x = data['Education'], hue = data['Product'])\n",
    "plt.plot()"
   ]
  },
  {
   "cell_type": "markdown",
   "id": "4a0da8eb",
   "metadata": {},
   "source": [
    "With these 2 plots, it is compared and possible to conclude that incomes of customers purchasing the lower priced models are in the lower income ranges and education might be contributing factor in that.\n",
    "\n",
    "KP281: Has a median income of around 45000 USD and the minimum - maximim values as 30000 USD - 70000 USD with no outliers. \n",
    "50% of customers have an income range of 40000 USD-55000 USD\n",
    "\n",
    "KP481: Has a median income of around 50000 USD and the minimum - maximim values as 48000 USD - 65000 USD with 1 outlier. \n",
    "50% of customers have an income range of 55000 USD-65000 USD\n",
    "\n",
    "KP781: Has a median income of around 80000 USD and the minimum - maximim values as 50000 USD - 104000 USD with no outlier. \n",
    "50% of customers have an income range of 60000 USD-90000 USD"
   ]
  },
  {
   "cell_type": "code",
   "execution_count": 40,
   "id": "793d2973",
   "metadata": {},
   "outputs": [
    {
     "data": {
      "text/html": [
       "<style type=\"text/css\">\n",
       "#T_3041e_row0_col0, #T_3041e_row0_col1, #T_3041e_row0_col2, #T_3041e_row0_col4, #T_3041e_row1_col0, #T_3041e_row1_col1, #T_3041e_row1_col2, #T_3041e_row1_col3, #T_3041e_row1_col4, #T_3041e_row2_col0, #T_3041e_row2_col1, #T_3041e_row2_col3, #T_3041e_row2_col5 {\n",
       "  color: blue;\n",
       "}\n",
       "#T_3041e_row0_col3, #T_3041e_row0_col6, #T_3041e_row1_col6 {\n",
       "  color: red;\n",
       "}\n",
       "#T_3041e_row0_col5, #T_3041e_row1_col5, #T_3041e_row2_col2, #T_3041e_row2_col4, #T_3041e_row2_col6 {\n",
       "  color: black;\n",
       "}\n",
       "</style>\n",
       "<table id=\"T_3041e_\">\n",
       "  <thead>\n",
       "    <tr>\n",
       "      <th class=\"index_name level0\" >Income Type</th>\n",
       "      <th class=\"col_heading level0 col0\" >Above Average</th>\n",
       "      <th class=\"col_heading level0 col1\" >Average</th>\n",
       "      <th class=\"col_heading level0 col2\" >Below Average</th>\n",
       "      <th class=\"col_heading level0 col3\" >High</th>\n",
       "      <th class=\"col_heading level0 col4\" >Low</th>\n",
       "      <th class=\"col_heading level0 col5\" >Very High</th>\n",
       "      <th class=\"col_heading level0 col6\" >Very Low</th>\n",
       "    </tr>\n",
       "    <tr>\n",
       "      <th class=\"index_name level0\" >Product</th>\n",
       "      <th class=\"blank col0\" >&nbsp;</th>\n",
       "      <th class=\"blank col1\" >&nbsp;</th>\n",
       "      <th class=\"blank col2\" >&nbsp;</th>\n",
       "      <th class=\"blank col3\" >&nbsp;</th>\n",
       "      <th class=\"blank col4\" >&nbsp;</th>\n",
       "      <th class=\"blank col5\" >&nbsp;</th>\n",
       "      <th class=\"blank col6\" >&nbsp;</th>\n",
       "    </tr>\n",
       "  </thead>\n",
       "  <tbody>\n",
       "    <tr>\n",
       "      <th id=\"T_3041e_level0_row0\" class=\"row_heading level0 row0\" >KP281</th>\n",
       "      <td id=\"T_3041e_row0_col0\" class=\"data row0 col0\" >0.175000</td>\n",
       "      <td id=\"T_3041e_row0_col1\" class=\"data row0 col1\" >0.162500</td>\n",
       "      <td id=\"T_3041e_row0_col2\" class=\"data row0 col2\" >0.200000</td>\n",
       "      <td id=\"T_3041e_row0_col3\" class=\"data row0 col3\" >0.087500</td>\n",
       "      <td id=\"T_3041e_row0_col4\" class=\"data row0 col4\" >0.300000</td>\n",
       "      <td id=\"T_3041e_row0_col5\" class=\"data row0 col5\" >0.000000</td>\n",
       "      <td id=\"T_3041e_row0_col6\" class=\"data row0 col6\" >0.075000</td>\n",
       "    </tr>\n",
       "    <tr>\n",
       "      <th id=\"T_3041e_level0_row1\" class=\"row_heading level0 row1\" >KP481</th>\n",
       "      <td id=\"T_3041e_row1_col0\" class=\"data row1 col0\" >0.150000</td>\n",
       "      <td id=\"T_3041e_row1_col1\" class=\"data row1 col1\" >0.283333</td>\n",
       "      <td id=\"T_3041e_row1_col2\" class=\"data row1 col2\" >0.166667</td>\n",
       "      <td id=\"T_3041e_row1_col3\" class=\"data row1 col3\" >0.150000</td>\n",
       "      <td id=\"T_3041e_row1_col4\" class=\"data row1 col4\" >0.200000</td>\n",
       "      <td id=\"T_3041e_row1_col5\" class=\"data row1 col5\" >0.000000</td>\n",
       "      <td id=\"T_3041e_row1_col6\" class=\"data row1 col6\" >0.050000</td>\n",
       "    </tr>\n",
       "    <tr>\n",
       "      <th id=\"T_3041e_level0_row2\" class=\"row_heading level0 row2\" >KP781</th>\n",
       "      <td id=\"T_3041e_row2_col0\" class=\"data row2 col0\" >0.100000</td>\n",
       "      <td id=\"T_3041e_row2_col1\" class=\"data row2 col1\" >0.175000</td>\n",
       "      <td id=\"T_3041e_row2_col2\" class=\"data row2 col2\" >0.000000</td>\n",
       "      <td id=\"T_3041e_row2_col3\" class=\"data row2 col3\" >0.500000</td>\n",
       "      <td id=\"T_3041e_row2_col4\" class=\"data row2 col4\" >0.000000</td>\n",
       "      <td id=\"T_3041e_row2_col5\" class=\"data row2 col5\" >0.225000</td>\n",
       "      <td id=\"T_3041e_row2_col6\" class=\"data row2 col6\" >0.000000</td>\n",
       "    </tr>\n",
       "  </tbody>\n",
       "</table>\n"
      ],
      "text/plain": [
       "<pandas.io.formats.style.Styler at 0x201dde11100>"
      ]
     },
     "execution_count": 40,
     "metadata": {},
     "output_type": "execute_result"
    }
   ],
   "source": [
    "pd.crosstab(index = data['Product'], columns = data['Income Type'], normalize = 'index').style.applymap(prob_color)"
   ]
  },
  {
   "cell_type": "markdown",
   "id": "b6cd16de",
   "metadata": {},
   "source": [
    "Majority KP281 customers have an income in the range of Low to Average, with a combined joint probability value of 0.73.\n",
    "\n",
    "KP481 customers have an income in the wider range of Low to High, with equally distributed probabilities of around 0.2.\n",
    "\n",
    "Maximum customers owning the KP781 have High or Very High incomes with combined joint probabilities of 0.7225. \n",
    "\n",
    "There are no customers who have Very high incomes and buy the KP481 or KP781.\n",
    "\n",
    "Similarly no customers with Below average or lower incomes buy the KP781.\n",
    "\n",
    "Therefore, Safe Targets for each category based on incomes are:\n",
    "\n",
    "    KP281 --> Low, Below Average\n",
    "\n",
    "    KP481 --> Average, Above Average, High\n",
    "\n",
    "    KP781 --> High, Very High"
   ]
  },
  {
   "cell_type": "code",
   "execution_count": 41,
   "id": "ec228a39",
   "metadata": {},
   "outputs": [
    {
     "data": {
      "text/html": [
       "<style type=\"text/css\">\n",
       "#T_960dd_row0_col0, #T_960dd_row0_col4, #T_960dd_row1_col0, #T_960dd_row1_col4, #T_960dd_row2_col0, #T_960dd_row2_col4, #T_960dd_row3_col1, #T_960dd_row3_col3, #T_960dd_row3_col4, #T_960dd_row4_col0, #T_960dd_row4_col4, #T_960dd_row5_col3, #T_960dd_row5_col4, #T_960dd_row6_col0, #T_960dd_row6_col2, #T_960dd_row6_col4 {\n",
       "  color: blue;\n",
       "}\n",
       "#T_960dd_row0_col1, #T_960dd_row0_col2, #T_960dd_row1_col1, #T_960dd_row1_col2, #T_960dd_row2_col1, #T_960dd_row2_col3, #T_960dd_row3_col2, #T_960dd_row4_col1, #T_960dd_row4_col2, #T_960dd_row4_col3, #T_960dd_row5_col0, #T_960dd_row5_col1, #T_960dd_row5_col2, #T_960dd_row6_col1, #T_960dd_row6_col3 {\n",
       "  color: black;\n",
       "}\n",
       "#T_960dd_row0_col3, #T_960dd_row1_col3, #T_960dd_row2_col2, #T_960dd_row3_col0 {\n",
       "  color: red;\n",
       "}\n",
       "</style>\n",
       "<table id=\"T_960dd_\">\n",
       "  <thead>\n",
       "    <tr>\n",
       "      <th class=\"index_name level0\" >Education</th>\n",
       "      <th class=\"col_heading level0 col0\" >Diploma</th>\n",
       "      <th class=\"col_heading level0 col1\" >Doctor or equivalent</th>\n",
       "      <th class=\"col_heading level0 col2\" >High School</th>\n",
       "      <th class=\"col_heading level0 col3\" >Post-Grad</th>\n",
       "      <th class=\"col_heading level0 col4\" >Undergraduate</th>\n",
       "    </tr>\n",
       "    <tr>\n",
       "      <th class=\"index_name level0\" >Income Type</th>\n",
       "      <th class=\"blank col0\" >&nbsp;</th>\n",
       "      <th class=\"blank col1\" >&nbsp;</th>\n",
       "      <th class=\"blank col2\" >&nbsp;</th>\n",
       "      <th class=\"blank col3\" >&nbsp;</th>\n",
       "      <th class=\"blank col4\" >&nbsp;</th>\n",
       "    </tr>\n",
       "  </thead>\n",
       "  <tbody>\n",
       "    <tr>\n",
       "      <th id=\"T_960dd_level0_row0\" class=\"row_heading level0 row0\" >Above Average</th>\n",
       "      <td id=\"T_960dd_row0_col0\" class=\"data row0 col0\" >0.296296</td>\n",
       "      <td id=\"T_960dd_row0_col1\" class=\"data row0 col1\" >0.000000</td>\n",
       "      <td id=\"T_960dd_row0_col2\" class=\"data row0 col2\" >0.000000</td>\n",
       "      <td id=\"T_960dd_row0_col3\" class=\"data row0 col3\" >0.074074</td>\n",
       "      <td id=\"T_960dd_row0_col4\" class=\"data row0 col4\" >0.629630</td>\n",
       "    </tr>\n",
       "    <tr>\n",
       "      <th id=\"T_960dd_level0_row1\" class=\"row_heading level0 row1\" >Average</th>\n",
       "      <td id=\"T_960dd_row1_col0\" class=\"data row1 col0\" >0.270270</td>\n",
       "      <td id=\"T_960dd_row1_col1\" class=\"data row1 col1\" >0.000000</td>\n",
       "      <td id=\"T_960dd_row1_col2\" class=\"data row1 col2\" >0.000000</td>\n",
       "      <td id=\"T_960dd_row1_col3\" class=\"data row1 col3\" >0.081081</td>\n",
       "      <td id=\"T_960dd_row1_col4\" class=\"data row1 col4\" >0.648649</td>\n",
       "    </tr>\n",
       "    <tr>\n",
       "      <th id=\"T_960dd_level0_row2\" class=\"row_heading level0 row2\" >Below Average</th>\n",
       "      <td id=\"T_960dd_row2_col0\" class=\"data row2 col0\" >0.615385</td>\n",
       "      <td id=\"T_960dd_row2_col1\" class=\"data row2 col1\" >0.000000</td>\n",
       "      <td id=\"T_960dd_row2_col2\" class=\"data row2 col2\" >0.038462</td>\n",
       "      <td id=\"T_960dd_row2_col3\" class=\"data row2 col3\" >0.000000</td>\n",
       "      <td id=\"T_960dd_row2_col4\" class=\"data row2 col4\" >0.346154</td>\n",
       "    </tr>\n",
       "    <tr>\n",
       "      <th id=\"T_960dd_level0_row3\" class=\"row_heading level0 row3\" >High</th>\n",
       "      <td id=\"T_960dd_row3_col0\" class=\"data row3 col0\" >0.027778</td>\n",
       "      <td id=\"T_960dd_row3_col1\" class=\"data row3 col1\" >0.111111</td>\n",
       "      <td id=\"T_960dd_row3_col2\" class=\"data row3 col2\" >0.000000</td>\n",
       "      <td id=\"T_960dd_row3_col3\" class=\"data row3 col3\" >0.305556</td>\n",
       "      <td id=\"T_960dd_row3_col4\" class=\"data row3 col4\" >0.555556</td>\n",
       "    </tr>\n",
       "    <tr>\n",
       "      <th id=\"T_960dd_level0_row4\" class=\"row_heading level0 row4\" >Low</th>\n",
       "      <td id=\"T_960dd_row4_col0\" class=\"data row4 col0\" >0.527778</td>\n",
       "      <td id=\"T_960dd_row4_col1\" class=\"data row4 col1\" >0.000000</td>\n",
       "      <td id=\"T_960dd_row4_col2\" class=\"data row4 col2\" >0.000000</td>\n",
       "      <td id=\"T_960dd_row4_col3\" class=\"data row4 col3\" >0.000000</td>\n",
       "      <td id=\"T_960dd_row4_col4\" class=\"data row4 col4\" >0.472222</td>\n",
       "    </tr>\n",
       "    <tr>\n",
       "      <th id=\"T_960dd_level0_row5\" class=\"row_heading level0 row5\" >Very High</th>\n",
       "      <td id=\"T_960dd_row5_col0\" class=\"data row5 col0\" >0.000000</td>\n",
       "      <td id=\"T_960dd_row5_col1\" class=\"data row5 col1\" >0.000000</td>\n",
       "      <td id=\"T_960dd_row5_col2\" class=\"data row5 col2\" >0.000000</td>\n",
       "      <td id=\"T_960dd_row5_col3\" class=\"data row5 col3\" >0.777778</td>\n",
       "      <td id=\"T_960dd_row5_col4\" class=\"data row5 col4\" >0.222222</td>\n",
       "    </tr>\n",
       "    <tr>\n",
       "      <th id=\"T_960dd_level0_row6\" class=\"row_heading level0 row6\" >Very Low</th>\n",
       "      <td id=\"T_960dd_row6_col0\" class=\"data row6 col0\" >0.666667</td>\n",
       "      <td id=\"T_960dd_row6_col1\" class=\"data row6 col1\" >0.000000</td>\n",
       "      <td id=\"T_960dd_row6_col2\" class=\"data row6 col2\" >0.222222</td>\n",
       "      <td id=\"T_960dd_row6_col3\" class=\"data row6 col3\" >0.000000</td>\n",
       "      <td id=\"T_960dd_row6_col4\" class=\"data row6 col4\" >0.111111</td>\n",
       "    </tr>\n",
       "  </tbody>\n",
       "</table>\n"
      ],
      "text/plain": [
       "<pandas.io.formats.style.Styler at 0x201dde17be0>"
      ]
     },
     "execution_count": 41,
     "metadata": {},
     "output_type": "execute_result"
    }
   ],
   "source": [
    "pd.crosstab(index = data['Income Type'], columns = data['Education'], normalize = 'index').style.applymap(prob_color)"
   ]
  },
  {
   "cell_type": "markdown",
   "id": "0453ad83",
   "metadata": {},
   "source": [
    "Probability of Being a Post Grad and Having very high incomes is 0.78, which is extremely good. This fits in well with earlier recommendation of Post Grad customers being the Target for KP781."
   ]
  },
  {
   "cell_type": "markdown",
   "id": "c839b7c5",
   "metadata": {},
   "source": [
    "Another Conclusion that can be ensured from this comparative plots and above given table is:\n",
    "Even though education levels of customers buying the KP481 and KP281 are proportionate, but the median incomes for the same education level are greater for KP481 customers.\n",
    "The difference is not very significant but definitely exists.\n",
    "KP781 customers in general have higher incomes irrespective of their education level. The median income for Post Grad customers have the highest income which\n",
    "indicates they might have more years of work experience or they could be professional athletes."
   ]
  },
  {
   "cell_type": "code",
   "execution_count": 42,
   "id": "62c14278",
   "metadata": {},
   "outputs": [
    {
     "data": {
      "text/html": [
       "<div>\n",
       "<style scoped>\n",
       "    .dataframe tbody tr th:only-of-type {\n",
       "        vertical-align: middle;\n",
       "    }\n",
       "\n",
       "    .dataframe tbody tr th {\n",
       "        vertical-align: top;\n",
       "    }\n",
       "\n",
       "    .dataframe thead th {\n",
       "        text-align: right;\n",
       "    }\n",
       "</style>\n",
       "<table border=\"1\" class=\"dataframe\">\n",
       "  <thead>\n",
       "    <tr style=\"text-align: right;\">\n",
       "      <th>Education</th>\n",
       "      <th>Diploma</th>\n",
       "      <th>Doctor or equivalent</th>\n",
       "      <th>High School</th>\n",
       "      <th>Post-Grad</th>\n",
       "      <th>Undergraduate</th>\n",
       "    </tr>\n",
       "    <tr>\n",
       "      <th>Gender</th>\n",
       "      <th></th>\n",
       "      <th></th>\n",
       "      <th></th>\n",
       "      <th></th>\n",
       "      <th></th>\n",
       "    </tr>\n",
       "  </thead>\n",
       "  <tbody>\n",
       "    <tr>\n",
       "      <th>Female</th>\n",
       "      <td>31</td>\n",
       "      <td>1</td>\n",
       "      <td>0</td>\n",
       "      <td>7</td>\n",
       "      <td>37</td>\n",
       "    </tr>\n",
       "    <tr>\n",
       "      <th>Male</th>\n",
       "      <td>29</td>\n",
       "      <td>3</td>\n",
       "      <td>3</td>\n",
       "      <td>16</td>\n",
       "      <td>53</td>\n",
       "    </tr>\n",
       "  </tbody>\n",
       "</table>\n",
       "</div>"
      ],
      "text/plain": [
       "Education  Diploma  Doctor or equivalent  High School  Post-Grad  \\\n",
       "Gender                                                             \n",
       "Female          31                     1            0          7   \n",
       "Male            29                     3            3         16   \n",
       "\n",
       "Education  Undergraduate  \n",
       "Gender                    \n",
       "Female                37  \n",
       "Male                  53  "
      ]
     },
     "execution_count": 42,
     "metadata": {},
     "output_type": "execute_result"
    }
   ],
   "source": [
    "pd.crosstab(index = data['Gender'], columns = data['Education'])"
   ]
  },
  {
   "cell_type": "code",
   "execution_count": 43,
   "id": "4fbc2660",
   "metadata": {},
   "outputs": [
    {
     "data": {
      "text/html": [
       "<style type=\"text/css\">\n",
       "#T_4cdad_row0_col0, #T_4cdad_row0_col5, #T_4cdad_row1_col0, #T_4cdad_row1_col2, #T_4cdad_row1_col5 {\n",
       "  color: red;\n",
       "}\n",
       "#T_4cdad_row0_col1, #T_4cdad_row0_col3, #T_4cdad_row0_col4, #T_4cdad_row1_col1, #T_4cdad_row1_col3, #T_4cdad_row1_col4 {\n",
       "  color: blue;\n",
       "}\n",
       "#T_4cdad_row0_col2 {\n",
       "  color: black;\n",
       "}\n",
       "</style>\n",
       "<table id=\"T_4cdad_\">\n",
       "  <thead>\n",
       "    <tr>\n",
       "      <th class=\"index_name level0\" >Usage</th>\n",
       "      <th class=\"col_heading level0 col0\" >Above Average</th>\n",
       "      <th class=\"col_heading level0 col1\" >Average</th>\n",
       "      <th class=\"col_heading level0 col2\" >Frequent</th>\n",
       "      <th class=\"col_heading level0 col3\" >Occassional</th>\n",
       "      <th class=\"col_heading level0 col4\" >Rare</th>\n",
       "      <th class=\"col_heading level0 col5\" >Regular</th>\n",
       "    </tr>\n",
       "    <tr>\n",
       "      <th class=\"index_name level0\" >Gender</th>\n",
       "      <th class=\"blank col0\" >&nbsp;</th>\n",
       "      <th class=\"blank col1\" >&nbsp;</th>\n",
       "      <th class=\"blank col2\" >&nbsp;</th>\n",
       "      <th class=\"blank col3\" >&nbsp;</th>\n",
       "      <th class=\"blank col4\" >&nbsp;</th>\n",
       "      <th class=\"blank col5\" >&nbsp;</th>\n",
       "    </tr>\n",
       "  </thead>\n",
       "  <tbody>\n",
       "    <tr>\n",
       "      <th id=\"T_4cdad_level0_row0\" class=\"row_heading level0 row0\" >Female</th>\n",
       "      <td id=\"T_4cdad_row0_col0\" class=\"data row0 col0\" >0.092105</td>\n",
       "      <td id=\"T_4cdad_row0_col1\" class=\"data row0 col1\" >0.184211</td>\n",
       "      <td id=\"T_4cdad_row0_col2\" class=\"data row0 col2\" >0.000000</td>\n",
       "      <td id=\"T_4cdad_row0_col3\" class=\"data row0 col3\" >0.434211</td>\n",
       "      <td id=\"T_4cdad_row0_col4\" class=\"data row0 col4\" >0.263158</td>\n",
       "      <td id=\"T_4cdad_row0_col5\" class=\"data row0 col5\" >0.026316</td>\n",
       "    </tr>\n",
       "    <tr>\n",
       "      <th id=\"T_4cdad_level0_row1\" class=\"row_heading level0 row1\" >Male</th>\n",
       "      <td id=\"T_4cdad_row1_col0\" class=\"data row1 col0\" >0.096154</td>\n",
       "      <td id=\"T_4cdad_row1_col1\" class=\"data row1 col1\" >0.365385</td>\n",
       "      <td id=\"T_4cdad_row1_col2\" class=\"data row1 col2\" >0.019231</td>\n",
       "      <td id=\"T_4cdad_row1_col3\" class=\"data row1 col3\" >0.346154</td>\n",
       "      <td id=\"T_4cdad_row1_col4\" class=\"data row1 col4\" >0.125000</td>\n",
       "      <td id=\"T_4cdad_row1_col5\" class=\"data row1 col5\" >0.048077</td>\n",
       "    </tr>\n",
       "  </tbody>\n",
       "</table>\n"
      ],
      "text/plain": [
       "<pandas.io.formats.style.Styler at 0x201dddc6250>"
      ]
     },
     "execution_count": 43,
     "metadata": {},
     "output_type": "execute_result"
    }
   ],
   "source": [
    "hm = pd.crosstab(index = data['Gender'], columns = data['Usage'], normalize = 'index').style.applymap(prob_color)\n",
    "hm"
   ]
  },
  {
   "cell_type": "code",
   "execution_count": 44,
   "id": "29c950ec",
   "metadata": {},
   "outputs": [
    {
     "data": {
      "text/plain": [
       "[]"
      ]
     },
     "execution_count": 44,
     "metadata": {},
     "output_type": "execute_result"
    },
    {
     "data": {
      "image/png": "[encoded data removed]",
      "text/plain": [
       "<Figure size 432x288 with 1 Axes>"
      ]
     },
     "metadata": {
      "needs_background": "light"
     },
     "output_type": "display_data"
    }
   ],
   "source": [
    "sns.kdeplot(data['Age'], hue = data['Product'], fill = True)\n",
    "plt.plot()"
   ]
  },
  {
   "cell_type": "code",
   "execution_count": 45,
   "id": "474e42eb",
   "metadata": {},
   "outputs": [
    {
     "data": {
      "text/plain": [
       "[]"
      ]
     },
     "execution_count": 45,
     "metadata": {},
     "output_type": "execute_result"
    },
    {
     "data": {
      "image/png": "[encoded data removed]",
      "text/plain": [
       "<Figure size 1440x360 with 2 Axes>"
      ]
     },
     "metadata": {
      "needs_background": "light"
     },
     "output_type": "display_data"
    }
   ],
   "source": [
    "plt.figure(figsize = (20,5))\n",
    "plt.subplot(1,2,1)\n",
    "sns.boxplot(y=data['Age'], x = data['Product'])\n",
    "plt.plot()\n",
    "plt.subplot(1,2,2)\n",
    "sns.boxplot(y = data['Age'], x= data['Income Type'])\n",
    "plt.plot()"
   ]
  },
  {
   "cell_type": "markdown",
   "id": "52f81726",
   "metadata": {},
   "source": [
    "More than 50% of customers from all three categories fall in the age groups of 20 to 35.\n",
    "\n",
    "There is a definite rising trend in the relationship between Incomes and Age of customers. Observation: Median Age of customers with very high incomes is around 35, while for Average Incomes, the median age is below 30 years."
   ]
  },
  {
   "cell_type": "code",
   "execution_count": 46,
   "id": "2ffce74f",
   "metadata": {},
   "outputs": [
    {
     "data": {
      "text/plain": [
       "[]"
      ]
     },
     "execution_count": 46,
     "metadata": {},
     "output_type": "execute_result"
    },
    {
     "data": {
      "image/png": "[encoded data removed]",
      "text/plain": [
       "<Figure size 864x216 with 3 Axes>"
      ]
     },
     "metadata": {},
     "output_type": "display_data"
    }
   ],
   "source": [
    "plt.figure(figsize = (12,3))\n",
    "plt.subplot(1,3,1)\n",
    "plt.pie(data[data['Product']=='KP281']['MaritalStatus'].value_counts(), labels = ['Partnered','Single'], autopct = '%.0f%%')\n",
    "plt.title('KP281')\n",
    "plt.plot()\n",
    "plt.subplot(1,3,2)\n",
    "plt.pie(data[data['Product']=='KP481']['MaritalStatus'].value_counts(), labels = ['Partnered','Single'], autopct = '%.0f%%')\n",
    "plt.title('KP481')\n",
    "plt.plot()\n",
    "plt.subplot(1,3,3)\n",
    "plt.pie(data[data['Product']=='KP781']['MaritalStatus'].value_counts(), labels = ['Partnered','Single'], autopct = '%.0f%%')\n",
    "plt.title('KP781')\n",
    "plt.plot()"
   ]
  },
  {
   "cell_type": "markdown",
   "id": "260e3cb8",
   "metadata": {},
   "source": [
    "The division of customers with respect to the Product and Marital Status Parameter are shown above:\n",
    "As observed all the product categories follow a similar proportion. With 60% of customers partnered and 40% Single for KP281 and KP481.\n",
    "While for KP781, 57% are partenered and 43% are Single.\n",
    "\n",
    "Which shows, the Single customers overall are less likely to Purchase any of the Products when compared with Partnered Individuals. \n",
    "Also, these customers are more likely to purchase the KP781 than the lower priced models."
   ]
  },
  {
   "cell_type": "code",
   "execution_count": 47,
   "id": "8307b424",
   "metadata": {},
   "outputs": [
    {
     "data": {
      "text/html": [
       "<style type=\"text/css\">\n",
       "#T_900d4_row0_col0, #T_900d4_row0_col1, #T_900d4_row0_col2, #T_900d4_row0_col3, #T_900d4_row0_col4, #T_900d4_row1_col0, #T_900d4_row1_col1, #T_900d4_row1_col2, #T_900d4_row1_col3, #T_900d4_row1_col4 {\n",
       "  color: blue;\n",
       "}\n",
       "#T_900d4_row0_col5, #T_900d4_row0_col6, #T_900d4_row1_col5, #T_900d4_row1_col6 {\n",
       "  color: red;\n",
       "}\n",
       "</style>\n",
       "<table id=\"T_900d4_\">\n",
       "  <thead>\n",
       "    <tr>\n",
       "      <th class=\"index_name level0\" >Income Type</th>\n",
       "      <th class=\"col_heading level0 col0\" >Above Average</th>\n",
       "      <th class=\"col_heading level0 col1\" >Average</th>\n",
       "      <th class=\"col_heading level0 col2\" >Below Average</th>\n",
       "      <th class=\"col_heading level0 col3\" >High</th>\n",
       "      <th class=\"col_heading level0 col4\" >Low</th>\n",
       "      <th class=\"col_heading level0 col5\" >Very High</th>\n",
       "      <th class=\"col_heading level0 col6\" >Very Low</th>\n",
       "    </tr>\n",
       "    <tr>\n",
       "      <th class=\"index_name level0\" >MaritalStatus</th>\n",
       "      <th class=\"blank col0\" >&nbsp;</th>\n",
       "      <th class=\"blank col1\" >&nbsp;</th>\n",
       "      <th class=\"blank col2\" >&nbsp;</th>\n",
       "      <th class=\"blank col3\" >&nbsp;</th>\n",
       "      <th class=\"blank col4\" >&nbsp;</th>\n",
       "      <th class=\"blank col5\" >&nbsp;</th>\n",
       "      <th class=\"blank col6\" >&nbsp;</th>\n",
       "    </tr>\n",
       "  </thead>\n",
       "  <tbody>\n",
       "    <tr>\n",
       "      <th id=\"T_900d4_level0_row0\" class=\"row_heading level0 row0\" >Partnered</th>\n",
       "      <td id=\"T_900d4_row0_col0\" class=\"data row0 col0\" >0.158879</td>\n",
       "      <td id=\"T_900d4_row0_col1\" class=\"data row0 col1\" >0.177570</td>\n",
       "      <td id=\"T_900d4_row0_col2\" class=\"data row0 col2\" >0.149533</td>\n",
       "      <td id=\"T_900d4_row0_col3\" class=\"data row0 col3\" >0.233645</td>\n",
       "      <td id=\"T_900d4_row0_col4\" class=\"data row0 col4\" >0.177570</td>\n",
       "      <td id=\"T_900d4_row0_col5\" class=\"data row0 col5\" >0.074766</td>\n",
       "      <td id=\"T_900d4_row0_col6\" class=\"data row0 col6\" >0.028037</td>\n",
       "    </tr>\n",
       "    <tr>\n",
       "      <th id=\"T_900d4_level0_row1\" class=\"row_heading level0 row1\" >Single</th>\n",
       "      <td id=\"T_900d4_row1_col0\" class=\"data row1 col0\" >0.136986</td>\n",
       "      <td id=\"T_900d4_row1_col1\" class=\"data row1 col1\" >0.246575</td>\n",
       "      <td id=\"T_900d4_row1_col2\" class=\"data row1 col2\" >0.136986</td>\n",
       "      <td id=\"T_900d4_row1_col3\" class=\"data row1 col3\" >0.150685</td>\n",
       "      <td id=\"T_900d4_row1_col4\" class=\"data row1 col4\" >0.232877</td>\n",
       "      <td id=\"T_900d4_row1_col5\" class=\"data row1 col5\" >0.013699</td>\n",
       "      <td id=\"T_900d4_row1_col6\" class=\"data row1 col6\" >0.082192</td>\n",
       "    </tr>\n",
       "  </tbody>\n",
       "</table>\n"
      ],
      "text/plain": [
       "<pandas.io.formats.style.Styler at 0x201dda83bb0>"
      ]
     },
     "execution_count": 47,
     "metadata": {},
     "output_type": "execute_result"
    }
   ],
   "source": [
    "pd.crosstab(index = data['MaritalStatus'], columns = data['Income Type'], normalize = 'index').style.applymap(prob_color)"
   ]
  },
  {
   "cell_type": "code",
   "execution_count": 48,
   "id": "80dff099",
   "metadata": {},
   "outputs": [
    {
     "data": {
      "text/html": [
       "<div>\n",
       "<style scoped>\n",
       "    .dataframe tbody tr th:only-of-type {\n",
       "        vertical-align: middle;\n",
       "    }\n",
       "\n",
       "    .dataframe tbody tr th {\n",
       "        vertical-align: top;\n",
       "    }\n",
       "\n",
       "    .dataframe thead th {\n",
       "        text-align: right;\n",
       "    }\n",
       "</style>\n",
       "<table border=\"1\" class=\"dataframe\">\n",
       "  <thead>\n",
       "    <tr style=\"text-align: right;\">\n",
       "      <th></th>\n",
       "      <th>Product</th>\n",
       "      <th>Age</th>\n",
       "      <th>Gender</th>\n",
       "      <th>Education</th>\n",
       "      <th>MaritalStatus</th>\n",
       "      <th>Usage</th>\n",
       "      <th>Fitness</th>\n",
       "      <th>Income</th>\n",
       "      <th>Miles</th>\n",
       "      <th>Income Type</th>\n",
       "    </tr>\n",
       "  </thead>\n",
       "  <tbody>\n",
       "    <tr>\n",
       "      <th>0</th>\n",
       "      <td>KP281</td>\n",
       "      <td>18</td>\n",
       "      <td>Male</td>\n",
       "      <td>Diploma</td>\n",
       "      <td>Single</td>\n",
       "      <td>Occassional</td>\n",
       "      <td>4</td>\n",
       "      <td>29562</td>\n",
       "      <td>112</td>\n",
       "      <td>Very Low</td>\n",
       "    </tr>\n",
       "    <tr>\n",
       "      <th>1</th>\n",
       "      <td>KP281</td>\n",
       "      <td>19</td>\n",
       "      <td>Male</td>\n",
       "      <td>Undergraduate</td>\n",
       "      <td>Single</td>\n",
       "      <td>Rare</td>\n",
       "      <td>3</td>\n",
       "      <td>31836</td>\n",
       "      <td>75</td>\n",
       "      <td>Very Low</td>\n",
       "    </tr>\n",
       "    <tr>\n",
       "      <th>2</th>\n",
       "      <td>KP281</td>\n",
       "      <td>19</td>\n",
       "      <td>Female</td>\n",
       "      <td>Diploma</td>\n",
       "      <td>Partnered</td>\n",
       "      <td>Average</td>\n",
       "      <td>3</td>\n",
       "      <td>30699</td>\n",
       "      <td>66</td>\n",
       "      <td>Very Low</td>\n",
       "    </tr>\n",
       "    <tr>\n",
       "      <th>3</th>\n",
       "      <td>KP281</td>\n",
       "      <td>19</td>\n",
       "      <td>Male</td>\n",
       "      <td>High School</td>\n",
       "      <td>Single</td>\n",
       "      <td>Occassional</td>\n",
       "      <td>3</td>\n",
       "      <td>32973</td>\n",
       "      <td>85</td>\n",
       "      <td>Very Low</td>\n",
       "    </tr>\n",
       "    <tr>\n",
       "      <th>4</th>\n",
       "      <td>KP281</td>\n",
       "      <td>20</td>\n",
       "      <td>Male</td>\n",
       "      <td>Diploma</td>\n",
       "      <td>Partnered</td>\n",
       "      <td>Average</td>\n",
       "      <td>2</td>\n",
       "      <td>35247</td>\n",
       "      <td>47</td>\n",
       "      <td>Low</td>\n",
       "    </tr>\n",
       "    <tr>\n",
       "      <th>...</th>\n",
       "      <td>...</td>\n",
       "      <td>...</td>\n",
       "      <td>...</td>\n",
       "      <td>...</td>\n",
       "      <td>...</td>\n",
       "      <td>...</td>\n",
       "      <td>...</td>\n",
       "      <td>...</td>\n",
       "      <td>...</td>\n",
       "      <td>...</td>\n",
       "    </tr>\n",
       "    <tr>\n",
       "      <th>175</th>\n",
       "      <td>KP781</td>\n",
       "      <td>40</td>\n",
       "      <td>Male</td>\n",
       "      <td>Doctor or equivalent</td>\n",
       "      <td>Single</td>\n",
       "      <td>Regular</td>\n",
       "      <td>5</td>\n",
       "      <td>83416</td>\n",
       "      <td>200</td>\n",
       "      <td>High</td>\n",
       "    </tr>\n",
       "    <tr>\n",
       "      <th>176</th>\n",
       "      <td>KP781</td>\n",
       "      <td>42</td>\n",
       "      <td>Male</td>\n",
       "      <td>Post-Grad</td>\n",
       "      <td>Single</td>\n",
       "      <td>Above Average</td>\n",
       "      <td>4</td>\n",
       "      <td>89641</td>\n",
       "      <td>200</td>\n",
       "      <td>High</td>\n",
       "    </tr>\n",
       "    <tr>\n",
       "      <th>177</th>\n",
       "      <td>KP781</td>\n",
       "      <td>45</td>\n",
       "      <td>Male</td>\n",
       "      <td>Undergraduate</td>\n",
       "      <td>Single</td>\n",
       "      <td>Above Average</td>\n",
       "      <td>5</td>\n",
       "      <td>90886</td>\n",
       "      <td>160</td>\n",
       "      <td>High</td>\n",
       "    </tr>\n",
       "    <tr>\n",
       "      <th>178</th>\n",
       "      <td>KP781</td>\n",
       "      <td>47</td>\n",
       "      <td>Male</td>\n",
       "      <td>Post-Grad</td>\n",
       "      <td>Partnered</td>\n",
       "      <td>Average</td>\n",
       "      <td>5</td>\n",
       "      <td>104581</td>\n",
       "      <td>120</td>\n",
       "      <td>Very High</td>\n",
       "    </tr>\n",
       "    <tr>\n",
       "      <th>179</th>\n",
       "      <td>KP781</td>\n",
       "      <td>48</td>\n",
       "      <td>Male</td>\n",
       "      <td>Post-Grad</td>\n",
       "      <td>Partnered</td>\n",
       "      <td>Average</td>\n",
       "      <td>5</td>\n",
       "      <td>95508</td>\n",
       "      <td>180</td>\n",
       "      <td>Very High</td>\n",
       "    </tr>\n",
       "  </tbody>\n",
       "</table>\n",
       "<p>180 rows × 10 columns</p>\n",
       "</div>"
      ],
      "text/plain": [
       "    Product  Age  Gender             Education MaritalStatus          Usage  \\\n",
       "0     KP281   18    Male               Diploma        Single    Occassional   \n",
       "1     KP281   19    Male         Undergraduate        Single           Rare   \n",
       "2     KP281   19  Female               Diploma     Partnered        Average   \n",
       "3     KP281   19    Male           High School        Single    Occassional   \n",
       "4     KP281   20    Male               Diploma     Partnered        Average   \n",
       "..      ...  ...     ...                   ...           ...            ...   \n",
       "175   KP781   40    Male  Doctor or equivalent        Single        Regular   \n",
       "176   KP781   42    Male             Post-Grad        Single  Above Average   \n",
       "177   KP781   45    Male         Undergraduate        Single  Above Average   \n",
       "178   KP781   47    Male             Post-Grad     Partnered        Average   \n",
       "179   KP781   48    Male             Post-Grad     Partnered        Average   \n",
       "\n",
       "     Fitness  Income  Miles Income Type  \n",
       "0          4   29562    112    Very Low  \n",
       "1          3   31836     75    Very Low  \n",
       "2          3   30699     66    Very Low  \n",
       "3          3   32973     85    Very Low  \n",
       "4          2   35247     47         Low  \n",
       "..       ...     ...    ...         ...  \n",
       "175        5   83416    200        High  \n",
       "176        4   89641    200        High  \n",
       "177        5   90886    160        High  \n",
       "178        5  104581    120   Very High  \n",
       "179        5   95508    180   Very High  \n",
       "\n",
       "[180 rows x 10 columns]"
      ]
     },
     "execution_count": 48,
     "metadata": {},
     "output_type": "execute_result"
    }
   ],
   "source": [
    "data"
   ]
  },
  {
   "cell_type": "markdown",
   "id": "69faa062",
   "metadata": {},
   "source": [
    "# Actionable Insights and Recommendations:\n",
    "    1 The highest selling Products as per the data are KP281 and KP481. The number of customers followed a downward trend in terms of equipments sold from KP281-->KP781.\n",
    "    This was in conjunction with the conclusion that more number of customers had Average-->Above Average Incomes hence the number of customers buying the KP281 and KP481 were more.\n",
    "    \n",
    "    Therefore, the stock for KP481 and KP281 should be kept higher than KP781 as these are the more desirable models and generally the incomes follow the same trend as in the given \n",
    "    data.\n",
    "    \n",
    "    2 In general Male and Female customers are equally likely to buy the KP481 or KP281 models. However, Male customers are 65% more likely to purchase the KP781 in comparison\n",
    "    to Female customers. This agrees with the fact that there are around 45 Male customers who earn Average to High incomes in comparison to 28 Female customers. \n",
    "    \n",
    "    So, among the 2 genders, Male customers should be targetted more during the marketing of the KP781 model. While people from both genders should be targetted equally for KP281 and\n",
    "    KP481.\n",
    "    \n",
    "    3 Customers having a Diploma or Undergraduate degree have higher probabilities of being an Occassional User(0.5 and 0.39) or Average user(0.2 and 0.32). \n",
    "    This matches with the Probability values of owning KP281/KP481 and being an occassional User(0.46/0.52), or being an Average User(0.275/0.2).\n",
    "    \n",
    "    Hence, the People with undergraduate or Diploma degrees tend to be apt for the customer profiles and as target customers for KP281 and KP481. \n",
    "    \n",
    "    4 A consistency in probability values is observed for Post-Grad qualification customers, as their Above average and Regular Usage Probabilities are around 0.47. While the\n",
    "    Probability of Post Grad customers owning the KP781 is also the highest, 0.475. \n",
    "    \n",
    "    Probability of Being a Post Grad and Having very high incomes is 0.78, which is extremely good. This fits in well with earlier recommendation of Post Grad customers \n",
    "    being the Prime Target for KP781.\n",
    "    \n",
    "    5 People who hold a Diploma or Undergraduate Degree are also prime targets for selling the KP781, if they are older than 30 years of age, as income has a linear relationship with\n",
    "    age of customers in the given data. \n",
    "    \n",
    "    Customers in the Age range of 20-35 comprise the main age gap of customers in this data for all 3 models. They should be given priority in marketing and sale. However, customers\n",
    "    with an age>40 should be targetted for the KP781 model, as they will have higher incomes irrespective of the education. \n",
    "    \n",
    "    6 Safe Targets for each category based on incomes are:\n",
    "\n",
    "    KP281 --> Low(34000 USD < Income < 44000 USD), Below Average(44000 USD < Income < 48000 USD)\n",
    "\n",
    "    KP481 --> Average(48000 USD < Income < 53000 USD), Above Average(53000 USD < Income < 59000 USD), High(59000 USD < Income < 91000 USD)\n",
    "\n",
    "    KP781 --> High(59000 USD < Income <91000 USD), Very High(Income > 91000 USD)\n",
    "    \n",
    "    7 People with Partners are more likely(60-40 chances) to Purchase the Products across all categories and since marketing exposure will also be higher when targetting 2 people from\n",
    "    the same household. \n",
    "    \n",
    "    8 However, Single People with higher incomes can be targetted if they tend to have a lower education level like Diploma and age less than equal to 25 years. If these parameters\n",
    "    are satisfied for any customer in research, the product being marketted should be KP781 as these people are most likely Athletes. \n",
    "    "
   ]
  },
  {
   "cell_type": "code",
   "execution_count": null,
   "id": "de0058a5",
   "metadata": {},
   "outputs": [],
   "source": []
  }
 ],
 "metadata": {
  "kernelspec": {
   "display_name": "Python 3 (ipykernel)",
   "language": "python",
   "name": "python3"
  },
  "language_info": {
   "codemirror_mode": {
    "name": "ipython",
    "version": 3
   },
   "file_extension": ".py",
   "mimetype": "text/x-python",
   "name": "python",
   "nbconvert_exporter": "python",
   "pygments_lexer": "ipython3",
   "version": "3.9.7"
  }
 },
 "nbformat": 4,
 "nbformat_minor": 5
}
